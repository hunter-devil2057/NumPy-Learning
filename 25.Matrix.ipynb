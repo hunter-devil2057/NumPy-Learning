{
 "cells": [
  {
   "cell_type": "markdown",
   "metadata": {},
   "source": [
    "# **Matrix in NumPy Arrays**"
   ]
  },
  {
   "cell_type": "markdown",
   "metadata": {},
   "source": [
    "**Create Matrix in NumPy Array**"
   ]
  },
  {
   "cell_type": "code",
   "execution_count": 9,
   "metadata": {},
   "outputs": [
    {
     "name": "stdout",
     "output_type": "stream",
     "text": [
      "[[1 2 3]\n",
      " [3 4 5]\n",
      " [5 6 7]]\n",
      "<class 'numpy.matrix'>\n"
     ]
    }
   ],
   "source": [
    "import numpy as np\n",
    "matrix=np.matrix([[1, 2, 3], [3, 4, 5], [5, 6, 7]])\n",
    "print(matrix)\n",
    "print(type(matrix))"
   ]
  },
  {
   "cell_type": "code",
   "execution_count": 8,
   "metadata": {},
   "outputs": [
    {
     "name": "stdout",
     "output_type": "stream",
     "text": [
      "[[1 2 3]\n",
      " [4 5 6]]\n",
      "<class 'numpy.ndarray'>\n"
     ]
    }
   ],
   "source": [
    "var1=np.array([[1, 2, 3], [4, 5, 6]])\n",
    "print(var1)\n",
    "print(type(var1))"
   ]
  },
  {
   "cell_type": "code",
   "execution_count": 11,
   "metadata": {},
   "outputs": [
    {
     "name": "stdout",
     "output_type": "stream",
     "text": [
      "Result: \n",
      " [[10 10 10]\n",
      " [10 10 10]\n",
      " [10 10 10]]\n"
     ]
    }
   ],
   "source": [
    "# Adding two matrices\n",
    "matrix1=np.matrix([[1, 2, 3], [4, 5, 6], [7, 8, 9]])\n",
    "matrix2=np.matrix([[9, 8, 7], [6, 5, 4], [3, 2, 1]])\n",
    "sum=np.add(matrix1, matrix2)\n",
    "print(\"Result: \\n\", sum)"
   ]
  },
  {
   "cell_type": "code",
   "execution_count": 13,
   "metadata": {},
   "outputs": [
    {
     "name": "stdout",
     "output_type": "stream",
     "text": [
      "Result: \n",
      " [[ 8  6  4]\n",
      " [ 2  0 -2]\n",
      " [-4 -6 -8]]\n"
     ]
    }
   ],
   "source": [
    "# Subtracting two matrices\n",
    "matrix1=np.matrix([[1, 2, 3], [4, 5, 6], [7, 8, 9]])\n",
    "matrix2=np.matrix([[9, 8, 7], [6, 5, 4], [3, 2, 1]])\n",
    "difference=np.subtract(matrix2, matrix1)\n",
    "print(\"Result: \\n\", difference)"
   ]
  },
  {
   "cell_type": "code",
   "execution_count": 15,
   "metadata": {},
   "outputs": [
    {
     "name": "stdout",
     "output_type": "stream",
     "text": [
      "Result: \n",
      " [[ 9 16 21]\n",
      " [24 25 24]\n",
      " [21 16  9]]\n"
     ]
    }
   ],
   "source": [
    "# Multiplying two Matrices\n",
    "matrix1=np.matrix([[1, 2, 3], [4, 5, 6], [7, 8, 9]])\n",
    "matrix2=np.matrix([[9, 8, 7], [6, 5, 4], [3, 2, 1]])\n",
    "product=np.multiply(matrix1, matrix2)\n",
    "print(\"Result: \\n\", product)"
   ]
  },
  {
   "cell_type": "code",
   "execution_count": 16,
   "metadata": {},
   "outputs": [
    {
     "name": "stdout",
     "output_type": "stream",
     "text": [
      "Result: \n",
      " [[ 30  24  18]\n",
      " [ 84  69  54]\n",
      " [138 114  90]]\n"
     ]
    }
   ],
   "source": [
    "# Dot Multiplication of Two Matrices\n",
    "matrix1=np.matrix([[1, 2, 3], [4, 5, 6], [7, 8, 9]])\n",
    "matrix2=np.matrix([[9, 8, 7], [6, 5, 4], [3, 2, 1]])\n",
    "product=np.dot(matrix1, matrix2)\n",
    "print(\"Result: \\n\", product)"
   ]
  }
 ],
 "metadata": {
  "kernelspec": {
   "display_name": "base",
   "language": "python",
   "name": "python3"
  },
  "language_info": {
   "codemirror_mode": {
    "name": "ipython",
    "version": 3
   },
   "file_extension": ".py",
   "mimetype": "text/x-python",
   "name": "python",
   "nbconvert_exporter": "python",
   "pygments_lexer": "ipython3",
   "version": "3.12.7"
  }
 },
 "nbformat": 4,
 "nbformat_minor": 2
}
