{
 "cells": [
  {
   "cell_type": "markdown",
   "metadata": {},
   "source": [
    "**Sort Array:**\n",
    "> - Ordered sequence is any sequence that has an order corresponding to elements, like numeric or alphabet, ascending or descending. \n",
    "> - using **np.sort(varName)**"
   ]
  },
  {
   "cell_type": "code",
   "execution_count": 9,
   "metadata": {},
   "outputs": [
    {
     "name": "stdout",
     "output_type": "stream",
     "text": [
      "(array([ 0,  1,  5,  7,  9, 10, 11], dtype=int64),)\n"
     ]
    }
   ],
   "source": [
    "import numpy as np\n",
    "var=np.array([4, 2, 3, 11, 17, 4,  1, 12, 5, 22, 52, 6, 7])\n",
    "x=np.where((var%2)==0)\n",
    "print(x)"
   ]
  },
  {
   "cell_type": "code",
   "execution_count": 10,
   "metadata": {},
   "outputs": [
    {
     "name": "stdout",
     "output_type": "stream",
     "text": [
      "[ 1  2  3  4  4  5  6  7 11 12 17 22 52]\n"
     ]
    }
   ],
   "source": [
    "print(np.sort(var))"
   ]
  },
  {
   "cell_type": "code",
   "execution_count": 11,
   "metadata": {},
   "outputs": [
    {
     "name": "stdout",
     "output_type": "stream",
     "text": [
      "['a' 'c' 'd' 'e' 'i' 'l' 'o' 'r' 's' 'u' 'u' 'z']\n"
     ]
    }
   ],
   "source": [
    "var2=np.array([\"a\", \"z\", \"u\", \"r\", \"e\", \"i\", \"s\", \"c\", \"l\", \"o\", \"u\", \"d\"])\n",
    "print(np.sort(var2))"
   ]
  },
  {
   "cell_type": "code",
   "execution_count": 17,
   "metadata": {},
   "outputs": [
    {
     "name": "stdout",
     "output_type": "stream",
     "text": [
      "[[9 2 1]\n",
      " [8 6 5]\n",
      " [7 4 3]]\n",
      "[[1 2 9]\n",
      " [5 6 8]\n",
      " [3 4 7]]\n"
     ]
    }
   ],
   "source": [
    "# Sorting 2D Array\n",
    "arr=np.array([[9, 2, 1], [8, 6, 5], [7, 4, 3]])\n",
    "print(arr)\n",
    "arrSort=np.sort(arr)\n",
    "print(arrSort)"
   ]
  }
 ],
 "metadata": {
  "kernelspec": {
   "display_name": "base",
   "language": "python",
   "name": "python3"
  },
  "language_info": {
   "codemirror_mode": {
    "name": "ipython",
    "version": 3
   },
   "file_extension": ".py",
   "mimetype": "text/x-python",
   "name": "python",
   "nbconvert_exporter": "python",
   "pygments_lexer": "ipython3",
   "version": "3.12.7"
  }
 },
 "nbformat": 4,
 "nbformat_minor": 2
}
