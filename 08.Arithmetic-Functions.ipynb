{
 "cells": [
  {
   "cell_type": "markdown",
   "metadata": {},
   "source": [
    "# **Arithmetic Functions in NumPy**"
   ]
  },
  {
   "cell_type": "markdown",
   "metadata": {},
   "source": [
    "**Arithmetic Functions in NumPy**\n",
    "- np.min(x)\n",
    "- np.max(x)\n",
    "- np.argmin(x)\n",
    "- np.sqrt(x)\n",
    "- np.sin(x)\n",
    "- np.cos(x)\n",
    "- np.cumsum(x)"
   ]
  },
  {
   "cell_type": "markdown",
   "metadata": {},
   "source": [
    "**np.min(x):** minimum element present in an array"
   ]
  },
  {
   "cell_type": "code",
   "execution_count": 11,
   "metadata": {},
   "outputs": [
    {
     "name": "stdout",
     "output_type": "stream",
     "text": [
      "3 is the minimum element in an array  [11 29 13 41 15  3 25]\n"
     ]
    }
   ],
   "source": [
    "import numpy as np\n",
    "arr=np.array([11, 29, 13, 41, 15, 3, 25])\n",
    "minElem=np.min(arr)\n",
    "print(minElem, \"is the minimum element in an array \", arr)"
   ]
  },
  {
   "cell_type": "markdown",
   "metadata": {},
   "source": [
    "**np.max(x):** maximum element present in an array"
   ]
  },
  {
   "cell_type": "code",
   "execution_count": 5,
   "metadata": {},
   "outputs": [
    {
     "name": "stdout",
     "output_type": "stream",
     "text": [
      "41 is the maximum element in an array  [11 29 13 41 15  3 25]\n"
     ]
    }
   ],
   "source": [
    "import numpy as np\n",
    "arr=np.array([11, 29, 13, 41, 15, 3, 25])\n",
    "maxElem=np.max(arr)\n",
    "print(maxElem, \"is the maximum element in an array \", arr)"
   ]
  },
  {
   "cell_type": "markdown",
   "metadata": {},
   "source": [
    "**np.argmin(x):** gives the position of minimum element. "
   ]
  },
  {
   "cell_type": "code",
   "execution_count": 9,
   "metadata": {},
   "outputs": [
    {
     "name": "stdout",
     "output_type": "stream",
     "text": [
      "3 is the minimum element in an array  [11 29 13 41 15  3 25] at position  6\n"
     ]
    }
   ],
   "source": [
    "import numpy as np\n",
    "arr=np.array([11, 29, 13, 41, 15, 3, 25])\n",
    "minElem=np.min(arr)\n",
    "minPos=np.argmin(arr)\n",
    "print(minElem, \"is the minimum element in an array \", arr, \"at position \", (minPos+1))"
   ]
  },
  {
   "cell_type": "code",
   "execution_count": 16,
   "metadata": {},
   "outputs": [
    {
     "name": "stdout",
     "output_type": "stream",
     "text": [
      "2 is the minimum element in an array  [[ 2  4  6  8]\n",
      " [ 4  8 12 16]] at position  1\n"
     ]
    }
   ],
   "source": [
    "import numpy as np\n",
    "arr=np.array([[2, 4, 6, 8], [4, 8, 12, 16]])\n",
    "minElem=np.min(arr)\n",
    "minPos=np.argmin(arr)\n",
    "print(minElem, \"is the minimum element in an array \", arr, \"at position \", (minPos+1))"
   ]
  },
  {
   "cell_type": "markdown",
   "metadata": {},
   "source": [
    "**np.argmax(x):** gives the position of maximum element."
   ]
  },
  {
   "cell_type": "code",
   "execution_count": 13,
   "metadata": {},
   "outputs": [
    {
     "name": "stdout",
     "output_type": "stream",
     "text": [
      "41 is the maximum element in an array  [11 29 13 41 15  3 25] at position  4\n"
     ]
    }
   ],
   "source": [
    "import numpy as np\n",
    "arr=np.array([11, 29, 13, 41, 15, 3, 25])\n",
    "maxElem=np.max(arr)\n",
    "maxPos=np.argmax(arr)\n",
    "print(maxElem, \"is the maximum element in an array \", arr, \"at position \", (maxPos+1))"
   ]
  },
  {
   "cell_type": "code",
   "execution_count": 23,
   "metadata": {},
   "outputs": [
    {
     "name": "stdout",
     "output_type": "stream",
     "text": [
      "16 is the maximum element in an array  [[ 2  4  6  8]\n",
      " [ 4  8 12 16]] at position  8\n"
     ]
    }
   ],
   "source": [
    "import numpy as np\n",
    "arr=np.array([[2, 4, 6, 8], [4, 8, 12, 16]])\n",
    "maxElem=np.max(arr)\n",
    "maxPos=np.argmax(arr)\n",
    "print(maxElem, \"is the maximum element in an array \", arr, \"at position \", (maxPos+1))"
   ]
  },
  {
   "cell_type": "markdown",
   "metadata": {},
   "source": [
    "**Note:**\n",
    "- **For Column:** pass axis=0 \n",
    "    - Example: \n",
    "    - np.min(arr, axis=0)   # determines minimum elements in Column\n",
    "- **For Row:** pass axis=1\n",
    "    - Example: \n",
    "    "
   ]
  },
  {
   "cell_type": "markdown",
   "metadata": {},
   "source": [
    "**np.sqrt(x):** determines the square root of the entered number"
   ]
  },
  {
   "cell_type": "code",
   "execution_count": 27,
   "metadata": {},
   "outputs": [
    {
     "name": "stdout",
     "output_type": "stream",
     "text": [
      "Array:  [  1   4   9  16  25  36  49  64  81 100]\n",
      "Square Root of Array:  [ 1.  2.  3.  4.  5.  6.  7.  8.  9. 10.]\n"
     ]
    }
   ],
   "source": [
    "import numpy as np\n",
    "num=np.array([1, 4, 9, 16, 25, 36, 49, 64, 81, 100])\n",
    "sqrt=np.sqrt(num)\n",
    "print(\"Array: \", num)\n",
    "print(\"Square Root of Array: \", sqrt)"
   ]
  },
  {
   "cell_type": "code",
   "execution_count": 29,
   "metadata": {},
   "outputs": [
    {
     "name": "stdout",
     "output_type": "stream",
     "text": [
      "Array: \n",
      " [[ 1  4  9]\n",
      " [16 25 36]\n",
      " [49 64 81]]\n",
      "Square Root of Array: \n",
      " [[1. 2. 3.]\n",
      " [4. 5. 6.]\n",
      " [7. 8. 9.]]\n"
     ]
    }
   ],
   "source": [
    "import numpy as np\n",
    "num=np.array([[1, 4, 9], [16, 25, 36], [49, 64, 81]])\n",
    "sqrt=np.sqrt(num)\n",
    "print(\"Array: \\n\", num)\n",
    "print(\"Square Root of Array: \\n\", sqrt)"
   ]
  },
  {
   "cell_type": "markdown",
   "metadata": {},
   "source": [
    "**np.sin(x):**\n",
    "- gives the trigonometric sine value of each element in the array **x**. \n",
    "- The input to **np.sin(x)** should be in radians, not in degrees. "
   ]
  },
  {
   "cell_type": "markdown",
   "metadata": {},
   "source": [
    "**np.cos(x):**\n",
    "- gives the trigonometric cosine value of each element in the array **x**. \n",
    "- The input to **np.cos(x)** should be in radians, not in degrees. "
   ]
  },
  {
   "cell_type": "code",
   "execution_count": 43,
   "metadata": {},
   "outputs": [
    {
     "name": "stdout",
     "output_type": "stream",
     "text": [
      "Array:  [0.5236 0.7854 1.0472 1.5708]\n",
      "Sine value :  [0.5    0.7071 0.866  1.    ]\n",
      "Cosine value: [0.866  0.7071 0.5    0.    ]\n"
     ]
    }
   ],
   "source": [
    "import numpy as np\n",
    "varDeg=np.array([30, 45, 60,  90])\n",
    "varRad=np.radians(varDeg)\n",
    "print(\"Array: \", np.round(varRad, 4))\n",
    "print(\"Sine value : \", np.round(np.sin(varRad), 4))\n",
    "print(\"Cosine value:\", np.round(np.cos(varRad), 4))"
   ]
  },
  {
   "cell_type": "code",
   "execution_count": 34,
   "metadata": {},
   "outputs": [
    {
     "name": "stdout",
     "output_type": "stream",
     "text": [
      "Array:  [0.         1.57079633 3.14159265]\n",
      "Sine value :  [0.0000000e+00 1.0000000e+00 1.2246468e-16]\n",
      "Cosine value: [ 1.000000e+00  6.123234e-17 -1.000000e+00]\n"
     ]
    }
   ],
   "source": [
    "import numpy as np\n",
    "var2=np.array([0, np.pi/2, np.pi])\n",
    "print(\"Array: \", var2)\n",
    "print(\"Sine value : \", np.sin(var2))\n",
    "print(\"Cosine value:\", np.cos(var2))"
   ]
  },
  {
   "cell_type": "code",
   "execution_count": 39,
   "metadata": {},
   "outputs": [
    {
     "name": "stdout",
     "output_type": "stream",
     "text": [
      "Array:  [0.    0.524 0.785 1.047 1.571]\n",
      "Sine value :  [0.    0.5   0.707 0.866 1.   ]\n",
      "Cosine value: [1.    0.866 0.707 0.5   0.   ]\n"
     ]
    }
   ],
   "source": [
    "import numpy as np\n",
    "# Values in Degrees\n",
    "varDeg=np.array([0, 30, 45, 60, 90])\n",
    "# Values in Radians\n",
    "varRad=np.radians(varDeg)\n",
    "print(\"Array: \", np.round(varRad, 3))\n",
    "print(\"Sine value : \", np.round(np.sin(varRad), 3))\n",
    "print(\"Cosine value:\", np.round(np.cos(varRad), 3))"
   ]
  },
  {
   "cell_type": "markdown",
   "metadata": {},
   "source": [
    "**np.cumsum(x):** \n",
    "- finds out the culmulative sum of the elements along a given axis.\n",
    "- **Syntax:** np.cumsum(x, axis=None, dtype=None, out=None)\n",
    "- Here, except **x**, all are optional. "
   ]
  },
  {
   "cell_type": "code",
   "execution_count": 49,
   "metadata": {},
   "outputs": [
    {
     "name": "stdout",
     "output_type": "stream",
     "text": [
      "Array:  [1 2 3 4 5]\n",
      "Culmulative Sum:  [ 1  3  6 10 15]\n"
     ]
    }
   ],
   "source": [
    "import numpy as np \n",
    "arr=np.array([1, 2, 3, 4, 5])\n",
    "cumSum=np.cumsum(arr)\n",
    "print(\"Array: \", arr)\n",
    "print(\"Culmulative Sum: \", cumSum)"
   ]
  },
  {
   "cell_type": "code",
   "execution_count": 48,
   "metadata": {},
   "outputs": [
    {
     "name": "stdout",
     "output_type": "stream",
     "text": [
      "Array: \n",
      " [[ 1  2  3  4]\n",
      " [ 5  6  7  8]\n",
      " [ 9 10 11 12]]\n",
      "Overall Culmulative Sum: \n",
      " [ 1  3  6 10 15 21 28 36 45 55 66 78]\n",
      "Culmulative Sum Along Rows: \n",
      " [[ 1  2  3  4]\n",
      " [ 6  8 10 12]\n",
      " [15 18 21 24]]\n",
      "Culmulative Sum Along Columns: \n",
      " [[ 1  3  6 10]\n",
      " [ 5 11 18 26]\n",
      " [ 9 19 30 42]]\n"
     ]
    }
   ],
   "source": [
    "# For 2D Array\n",
    "arr=np.array([[1, 2, 3, 4], [5, 6, 7, 8], [9, 10, 11, 12]])\n",
    "overallSum=np.cumsum(arr)\n",
    "rowSum=np.cumsum(arr, axis=0)\n",
    "colSum=np.cumsum(arr, axis=1)\n",
    "print(\"Array: \\n\", arr)\n",
    "print(\"Overall Culmulative Sum: \\n\", overallSum)\n",
    "print(\"Culmulative Sum Along Rows: \\n\", rowSum)\n",
    "print(\"Culmulative Sum Along Columns: \\n\", colSum)"
   ]
  }
 ],
 "metadata": {
  "kernelspec": {
   "display_name": "base",
   "language": "python",
   "name": "python3"
  },
  "language_info": {
   "codemirror_mode": {
    "name": "ipython",
    "version": 3
   },
   "file_extension": ".py",
   "mimetype": "text/x-python",
   "name": "python",
   "nbconvert_exporter": "python",
   "pygments_lexer": "ipython3",
   "version": "3.12.7"
  }
 },
 "nbformat": 4,
 "nbformat_minor": 2
}
