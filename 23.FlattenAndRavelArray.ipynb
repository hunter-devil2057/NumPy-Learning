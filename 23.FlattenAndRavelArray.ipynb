{
 "cells": [
  {
   "cell_type": "markdown",
   "metadata": {},
   "source": [
    "**Flatten And Ravel**\n",
    "> - converting 2D array to 1D Array, giving orders\n",
    "> - **Order: {'C', 'F', 'A', 'K'}, Optional**\n",
    ">   - **'C':** means to flatten in row-major (C-style) order. \n",
    ">   - **'F':** means to flatten in column-major (Fortran-style) order. \n",
    ">   - **'A':** means to flatten in column-major order if 'a' is FORTRAN \\*contiguous\\* in memory, row-major order otherwise. \n",
    ">   - **'K':** means to flatten 'a' in the orde the elements occur in memory. \n",
    ">   - The default is 'C'"
   ]
  },
  {
   "cell_type": "code",
   "execution_count": 9,
   "metadata": {},
   "outputs": [
    {
     "name": "stdout",
     "output_type": "stream",
     "text": [
      "[1 2 3 4 5 6]\n",
      "[[1 2 3]\n",
      " [4 5 6]]\n",
      "C-Style\n",
      "[1 2 3 4 5 6]\n",
      "F-Style\n",
      "[1 4 2 5 3 6]\n",
      "A-Style\n",
      "[1 2 3 4 5 6]\n",
      "K-Style\n",
      "[1 2 3 4 5 6]\n"
     ]
    }
   ],
   "source": [
    "import numpy as np\n",
    "var=np.array([1, 2, 3, 4, 5, 6])\n",
    "print(var)\n",
    "var2=np.resize(var, (2, 3))\n",
    "print(var2)\n",
    "print(\"C-Style\")\n",
    "var3=(var2.flatten(order='C'))\n",
    "print(var3)\n",
    "print(\"F-Style\")\n",
    "var3=(var2.flatten(order='F'))\n",
    "print(var3)\n",
    "print(\"A-Style\")\n",
    "var3=(var2.flatten(order='A'))\n",
    "print(var3)\n",
    "print(\"K-Style\")\n",
    "var3=(var2.flatten(order='K'))\n",
    "print(var3)"
   ]
  },
  {
   "cell_type": "code",
   "execution_count": 10,
   "metadata": {},
   "outputs": [
    {
     "name": "stdout",
     "output_type": "stream",
     "text": [
      "[1 2 3 4 5 6]\n",
      "[[1 2 3]\n",
      " [4 5 6]]\n",
      "C-Style\n",
      "[1 2 3 4 5 6]\n",
      "F-Style\n",
      "[1 4 2 5 3 6]\n",
      "A-Style\n",
      "[1 2 3 4 5 6]\n",
      "K-Style\n",
      "[1 2 3 4 5 6]\n"
     ]
    }
   ],
   "source": [
    "import numpy as np\n",
    "var=np.array([1, 2, 3, 4, 5, 6])\n",
    "print(var)\n",
    "var2=np.resize(var, (2, 3))\n",
    "print(var2)\n",
    "print(\"C-Style\")\n",
    "var3=(var2.ravel(order='C'))\n",
    "print(var3)\n",
    "print(\"F-Style\")\n",
    "var3=(var2.ravel(order='F'))\n",
    "print(var3)\n",
    "print(\"A-Style\")\n",
    "var3=(var2.ravel(order='A'))\n",
    "print(var3)\n",
    "print(\"K-Style\")\n",
    "var3=(var2.ravel(order='K'))\n",
    "print(var3)"
   ]
  }
 ],
 "metadata": {
  "kernelspec": {
   "display_name": "base",
   "language": "python",
   "name": "python3"
  },
  "language_info": {
   "codemirror_mode": {
    "name": "ipython",
    "version": 3
   },
   "file_extension": ".py",
   "mimetype": "text/x-python",
   "name": "python",
   "nbconvert_exporter": "python",
   "pygments_lexer": "ipython3",
   "version": "3.12.7"
  }
 },
 "nbformat": 4,
 "nbformat_minor": 2
}
