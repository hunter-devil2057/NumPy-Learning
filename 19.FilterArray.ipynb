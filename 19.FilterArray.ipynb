{
 "cells": [
  {
   "cell_type": "markdown",
   "metadata": {},
   "source": [
    "**Filter Array:**\n",
    "> - Getting some elements out of an existing array and creating a new array out of them.\n",
    "> - can be filtered by using **varName[filterVariable]**"
   ]
  },
  {
   "cell_type": "code",
   "execution_count": 4,
   "metadata": {},
   "outputs": [
    {
     "name": "stdout",
     "output_type": "stream",
     "text": [
      "['a' 'f' 'h' 'j' 'k']\n"
     ]
    }
   ],
   "source": [
    "import numpy as np\n",
    "var=np.array([\"a\", \"s\", \"d\", \"f\", \"g\", \"h\", \"j\", \"k\", \"l\"])\n",
    "filt=[True, False, False, True, False, True, True, True, False]\n",
    "newVar=var[filt]\n",
    "print(newVar)"
   ]
  }
 ],
 "metadata": {
  "kernelspec": {
   "display_name": "base",
   "language": "python",
   "name": "python3"
  },
  "language_info": {
   "codemirror_mode": {
    "name": "ipython",
    "version": 3
   },
   "file_extension": ".py",
   "mimetype": "text/x-python",
   "name": "python",
   "nbconvert_exporter": "python",
   "pygments_lexer": "ipython3",
   "version": "3.12.7"
  }
 },
 "nbformat": 4,
 "nbformat_minor": 2
}
