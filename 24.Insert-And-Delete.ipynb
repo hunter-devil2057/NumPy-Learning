{
 "cells": [
  {
   "cell_type": "markdown",
   "metadata": {},
   "source": [
    "**Insert and Delete Function**\n",
    "> - inserting data in an array, Insert\n",
    ">   - using, **np.insert(arrName, position, value)**\n",
    "> - deleting data in an array, Delete\n",
    ">   - using,"
   ]
  },
  {
   "cell_type": "code",
   "execution_count": 4,
   "metadata": {},
   "outputs": [
    {
     "name": "stdout",
     "output_type": "stream",
     "text": [
      "[1 2 3 4 5]\n",
      "Inserting 10 after 1\n",
      "[ 1 10  2  3  4  5]\n",
      "Inserting 23 between 2 and 3\n",
      "[ 1 10 23  2 23  3  4  5]\n"
     ]
    }
   ],
   "source": [
    "import numpy as np\n",
    "var=np.array([1, 2, 3, 4, 5])\n",
    "print(var)\n",
    "print(\"Inserting 10 after 1\")\n",
    "var1=np.insert(var, 1, 10)   # pos=1 means 2nd position\n",
    "print(var1)\n",
    "print(\"Inserting 23 between 2 and 3\")\n",
    "var2=np.insert(var1, (2, 3), 23)\n",
    "print(var2)"
   ]
  },
  {
   "cell_type": "code",
   "execution_count": 12,
   "metadata": {},
   "outputs": [
    {
     "name": "stdout",
     "output_type": "stream",
     "text": [
      "[[1 2 3]\n",
      " [4 5 6]]\n",
      "[1 2 6 3 6 4 5 6]\n"
     ]
    }
   ],
   "source": [
    "var1=np.array([[1,2, 3], [4, 5, 6]])\n",
    "print(var1)\n",
    "v=np.insert(var1, (2, 3), 6.5)\n",
    "print(v)"
   ]
  },
  {
   "cell_type": "code",
   "execution_count": 14,
   "metadata": {},
   "outputs": [
    {
     "name": "stdout",
     "output_type": "stream",
     "text": [
      "[[1 2 3]\n",
      " [4 5 6]]\n",
      "[[1 2 9 3]\n",
      " [4 5 9 6]]\n"
     ]
    }
   ],
   "source": [
    "var1=np.array([[1,2, 3], [4, 5, 6]])\n",
    "print(var1)\n",
    "v=np.insert(var1, 2, 9, axis=1)\n",
    "print(v)"
   ]
  },
  {
   "cell_type": "code",
   "execution_count": 17,
   "metadata": {},
   "outputs": [
    {
     "name": "stdout",
     "output_type": "stream",
     "text": [
      "[[1 2 3]\n",
      " [4 5 6]]\n",
      "[[1 2 2 3]\n",
      " [4 5 9 6]]\n"
     ]
    }
   ],
   "source": [
    "var1=np.array([[1, 2, 3], [4, 5, 6]])\n",
    "print(var1)\n",
    "v=np.insert(var1, 2, [2, 9], axis=1)\n",
    "print(v)"
   ]
  },
  {
   "cell_type": "code",
   "execution_count": 22,
   "metadata": {},
   "outputs": [
    {
     "name": "stdout",
     "output_type": "stream",
     "text": [
      "[[1 2 3]\n",
      " [4 5 6]]\n",
      "[1 2 3 4 5 6 2 3]\n"
     ]
    }
   ],
   "source": [
    "var1=np.array([[1, 2, 3], [4, 5, 6]])\n",
    "print(var1)\n",
    "v=np.append(var1, [2, 3])\n",
    "print(v)"
   ]
  },
  {
   "cell_type": "code",
   "execution_count": 31,
   "metadata": {},
   "outputs": [
    {
     "name": "stdout",
     "output_type": "stream",
     "text": [
      "[[1 2 3]\n",
      " [4 5 6]]\n",
      "[[ 1  2  3]\n",
      " [ 4  5  6]\n",
      " [ 2  3 23]]\n"
     ]
    }
   ],
   "source": [
    "var1=np.array([[1, 2, 3], [4, 5, 6]])\n",
    "print(var1)\n",
    "v=np.append(var1, [[2, 3, 23]], axis=0)\n",
    "print(v)"
   ]
  },
  {
   "cell_type": "markdown",
   "metadata": {},
   "source": [
    "**Delete**"
   ]
  },
  {
   "cell_type": "code",
   "execution_count": 37,
   "metadata": {},
   "outputs": [
    {
     "name": "stdout",
     "output_type": "stream",
     "text": [
      "[1 2 3 4]\n",
      "[1 2 4]\n"
     ]
    }
   ],
   "source": [
    "import numpy as np\n",
    "var1=np.array([1, 2, 3, 4])\n",
    "print(var1)\n",
    "varNew=np.delete(var1, 2)\n",
    "print(varNew)"
   ]
  }
 ],
 "metadata": {
  "kernelspec": {
   "display_name": "base",
   "language": "python",
   "name": "python3"
  },
  "language_info": {
   "codemirror_mode": {
    "name": "ipython",
    "version": 3
   },
   "file_extension": ".py",
   "mimetype": "text/x-python",
   "name": "python",
   "nbconvert_exporter": "python",
   "pygments_lexer": "ipython3",
   "version": "3.12.7"
  }
 },
 "nbformat": 4,
 "nbformat_minor": 2
}
