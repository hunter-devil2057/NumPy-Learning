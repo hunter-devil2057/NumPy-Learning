{
 "cells": [
  {
   "cell_type": "markdown",
   "metadata": {},
   "source": [
    "# **Shaping and Reshaping in Numpy Array**"
   ]
  },
  {
   "cell_type": "markdown",
   "metadata": {},
   "source": [
    "**Shaping of Array**\n",
    "- using **varName.shape**: gives the dimension of the matrix. "
   ]
  },
  {
   "cell_type": "code",
   "execution_count": 3,
   "metadata": {},
   "outputs": [
    {
     "name": "stdout",
     "output_type": "stream",
     "text": [
      "[[1 2]\n",
      " [1 2]]\n",
      "Order of Matrix: (2, 2)\n"
     ]
    }
   ],
   "source": [
    "import numpy as np \n",
    "var = np.array([[1, 2], [1, 2]])\n",
    "print(var)\n",
    "print(\"Order of Matrix:\", var.shape)"
   ]
  },
  {
   "cell_type": "code",
   "execution_count": 4,
   "metadata": {},
   "outputs": [
    {
     "name": "stdout",
     "output_type": "stream",
     "text": [
      "[[1 2 3]\n",
      " [4 5 6]\n",
      " [7 8 9]]\n",
      "Order of Matrix:  (3, 3)\n"
     ]
    }
   ],
   "source": [
    "import numpy as np\n",
    "var=np.array([[1,2,3],[4,5,6],[7,8,9]])\n",
    "print(var)\n",
    "print(\"Order of Matrix: \", var.shape)"
   ]
  },
  {
   "cell_type": "code",
   "execution_count": 7,
   "metadata": {},
   "outputs": [
    {
     "name": "stdout",
     "output_type": "stream",
     "text": [
      "[[[[1 2 3 4]]]]\n",
      "Order of Matrix:  (1, 1, 1, 4)\n"
     ]
    }
   ],
   "source": [
    "import numpy as np\n",
    "var1=np.array([1, 2, 3, 4], ndmin=4)\n",
    "print(var1)\n",
    "print(\"Order of Matrix: \", var1.shape)"
   ]
  },
  {
   "cell_type": "markdown",
   "metadata": {},
   "source": [
    "**Reshaping of An Array:** \n",
    "- converting of one-dimensional array into multi-dimensional array and vice-versa. \n",
    "- can be done by using **varName.reshape(rowNo, colNo)** function."
   ]
  },
  {
   "cell_type": "code",
   "execution_count": 22,
   "metadata": {},
   "outputs": [
    {
     "name": "stdout",
     "output_type": "stream",
     "text": [
      "[1 2 3 4 5 6]\n",
      "Dimension of Array:  1\n",
      "Order of Matrix:  (6,)\n",
      "[[1 2 3]\n",
      " [4 5 6]]\n",
      "Dimension of Array:  2\n",
      "Order of Matrix:  (2, 3)\n"
     ]
    }
   ],
   "source": [
    "import numpy as np\n",
    "var2=np.array([1, 2, 3, 4, 5, 6])\n",
    "print(var2)\n",
    "print(\"Dimension of Array: \", var2.ndim)\n",
    "print(\"Order of Matrix: \", var2.shape)\n",
    "x=var2.reshape(2, 3)\n",
    "print(x)\n",
    "print(\"Dimension of Array: \", x.ndim)\n",
    "print(\"Order of Matrix: \", x.shape)"
   ]
  },
  {
   "cell_type": "code",
   "execution_count": 31,
   "metadata": {},
   "outputs": [
    {
     "name": "stdout",
     "output_type": "stream",
     "text": [
      "[ 1  2  3  4  5  6  7  8  9 10 11 12]\n",
      "Dimension of Array:  1\n",
      "Order of Matrix:  (12,)\n",
      "[[[ 1  2]\n",
      "  [ 3  4]\n",
      "  [ 5  6]]\n",
      "\n",
      " [[ 7  8]\n",
      "  [ 9 10]\n",
      "  [11 12]]]\n",
      "Dimension of Array:  3\n",
      "Order of Matrix:  (2, 3, 2)\n"
     ]
    }
   ],
   "source": [
    "import numpy as np\n",
    "var3=np.array([1, 2, 3, 4, 5, 6, 7, 8, 9, 10, 11, 12])\n",
    "print(var3)\n",
    "print(\"Dimension of Array: \", var3.ndim)\n",
    "print(\"Order of Matrix: \", var3.shape)\n",
    "x1=var3.reshape(2, 3, 2)    # 2 rows and 3 columns and 2 depth\n",
    "print(x1)\n",
    "print(\"Dimension of Array: \", x1.ndim)\n",
    "print(\"Order of Matrix: \", x1.shape)"
   ]
  },
  {
   "cell_type": "markdown",
   "metadata": {},
   "source": [
    "**Moving 3-Dimensional Array to 1-Dimensional Array**"
   ]
  },
  {
   "cell_type": "code",
   "execution_count": 33,
   "metadata": {},
   "outputs": [
    {
     "name": "stdout",
     "output_type": "stream",
     "text": [
      "[ 1  2  3  4  5  6  7  8  9 10 11 12]\n",
      "Dimension of Array:  1\n",
      "Order of Matrix:  (12,)\n",
      "[[[ 1  2]\n",
      "  [ 3  4]\n",
      "  [ 5  6]]\n",
      "\n",
      " [[ 7  8]\n",
      "  [ 9 10]\n",
      "  [11 12]]]\n",
      "Dimension of Array:  3\n",
      "Order of Matrix:  (2, 3, 2)\n",
      "[ 1  2  3  4  5  6  7  8  9 10 11 12]\n",
      "Dimension of Array:  1\n",
      "Order of Matrix:  (12,)\n"
     ]
    }
   ],
   "source": [
    "import numpy as np\n",
    "var3=np.array([1, 2, 3, 4, 5, 6, 7, 8, 9, 10, 11, 12])\n",
    "print(var3)\n",
    "print(\"Dimension of Array: \", var3.ndim)\n",
    "print(\"Order of Matrix: \", var3.shape)\n",
    "x1=var3.reshape(2, 3, 2)    # 2 rows and 3 columns and 2 depth\n",
    "print(x1)\n",
    "print(\"Dimension of Array: \", x1.ndim)\n",
    "print(\"Order of Matrix: \", x1.shape)\n",
    "\n",
    "# Moving 3 Dimensional Array to 1-Dimensional Array\n",
    "dim1=x1.reshape(-1) # -1 will convert 3D array to 1D array\n",
    "print(dim1)\n",
    "print(\"Dimension of Array: \", dim1.ndim)\n",
    "print(\"Order of Matrix: \", dim1.shape)"
   ]
  }
 ],
 "metadata": {
  "kernelspec": {
   "display_name": "base",
   "language": "python",
   "name": "python3"
  },
  "language_info": {
   "codemirror_mode": {
    "name": "ipython",
    "version": 3
   },
   "file_extension": ".py",
   "mimetype": "text/x-python",
   "name": "python",
   "nbconvert_exporter": "python",
   "pygments_lexer": "ipython3",
   "version": "3.12.7"
  }
 },
 "nbformat": 4,
 "nbformat_minor": 2
}
