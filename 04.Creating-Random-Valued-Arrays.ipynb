{
 "cells": [
  {
   "cell_type": "markdown",
   "metadata": {},
   "source": [
    "# **Creating Random Valued Arrays**"
   ]
  },
  {
   "cell_type": "markdown",
   "metadata": {},
   "source": [
    "- **rand()** \n",
    "- **randn()** \n",
    "- **ranf()** \n",
    "- **randint():**"
   ]
  },
  {
   "cell_type": "markdown",
   "metadata": {},
   "source": [
    "Using **rand()** Function:\n",
    "- generates a random value between 0 to 1."
   ]
  },
  {
   "cell_type": "code",
   "execution_count": 31,
   "metadata": {},
   "outputs": [
    {
     "name": "stdout",
     "output_type": "stream",
     "text": [
      "0.8008575919068466\n"
     ]
    }
   ],
   "source": [
    "# For 1-Dimensional\n",
    "import numpy as np\n",
    "var=np.random.rand()    #values lie between 0 and 1\n",
    "print(var)"
   ]
  },
  {
   "cell_type": "code",
   "execution_count": 33,
   "metadata": {},
   "outputs": [
    {
     "name": "stdout",
     "output_type": "stream",
     "text": [
      "[[0.11554803 0.11617193 0.37730884 0.17069061 0.91585219]\n",
      " [0.36342317 0.32835033 0.53274695 0.39170479 0.31926738]]\n"
     ]
    }
   ],
   "source": [
    "# For 2 Dimensional Array\n",
    "import numpy as np \n",
    "var1=np.random.rand(2, 5)   #2 rows and 5 columns\n",
    "print(var1)"
   ]
  },
  {
   "cell_type": "code",
   "execution_count": 35,
   "metadata": {},
   "outputs": [
    {
     "name": "stdout",
     "output_type": "stream",
     "text": [
      "[[[0.88682635 0.05398946 0.86762467]\n",
      "  [0.50531873 0.63296322 0.6224898 ]\n",
      "  [0.20105921 0.71983662 0.453249  ]\n",
      "  [0.78288932 0.86762422 0.35405583]\n",
      "  [0.87866943 0.68782504 0.34723895]]\n",
      "\n",
      " [[0.4833939  0.51355893 0.35299863]\n",
      "  [0.65141267 0.11206313 0.74065874]\n",
      "  [0.5285425  0.92647862 0.62224993]\n",
      "  [0.43941228 0.537127   0.51693606]\n",
      "  [0.64006579 0.56573728 0.55877948]]]\n"
     ]
    }
   ],
   "source": [
    "# For 3-D Array\n",
    "import numpy as np \n",
    "var2=np.random.rand(2, 5, 3)   #2 rows, 5 columns and 3 depth\n",
    "print(var2)"
   ]
  },
  {
   "cell_type": "markdown",
   "metadata": {},
   "source": [
    "Using **randn()** Function\n",
    "- generates a random value close to 0.\n",
    "- This may return positive or negative numbers as well. "
   ]
  },
  {
   "cell_type": "code",
   "execution_count": 38,
   "metadata": {},
   "outputs": [
    {
     "name": "stdout",
     "output_type": "stream",
     "text": [
      "[ 0.22602046 -0.80434222  0.88432521  0.50249151 -0.26384089  0.59207128\n",
      "  0.80403595 -1.2713137 ]\n"
     ]
    }
   ],
   "source": [
    "import numpy as np\n",
    "var2=np.random.randn(8)\n",
    "print(var2)"
   ]
  },
  {
   "cell_type": "code",
   "execution_count": 40,
   "metadata": {},
   "outputs": [
    {
     "name": "stdout",
     "output_type": "stream",
     "text": [
      "[[-0.16441044 -0.00377695]\n",
      " [ 0.51062797 -0.21145151]\n",
      " [-0.22957719  0.71456414]\n",
      " [-2.14349728 -1.18794157]\n",
      " [-0.39628475 -0.03799573]\n",
      " [ 2.15179858  0.15525404]\n",
      " [ 0.71593419 -0.1914401 ]\n",
      " [ 0.18786165 -0.88279684]]\n"
     ]
    }
   ],
   "source": [
    "import numpy as np \n",
    "var2=np.random.randn(8, 2)  # 8 rows and 2 columns\n",
    "print(var2)"
   ]
  },
  {
   "cell_type": "markdown",
   "metadata": {},
   "source": [
    "using **ranf()** Function: \n",
    "- for doing random sampling in numpy. \n",
    "- It returns an array of specified shape and fills it with random floats in the half-open interval [0.0, 1.0)."
   ]
  },
  {
   "cell_type": "code",
   "execution_count": 41,
   "metadata": {},
   "outputs": [
    {
     "name": "stdout",
     "output_type": "stream",
     "text": [
      "[0.32660948 0.41567715 0.73456183 0.5276185  0.95930731 0.03030773]\n"
     ]
    }
   ],
   "source": [
    "import numpy as np\n",
    "var=np.random.ranf(6)\n",
    "print(var)"
   ]
  },
  {
   "cell_type": "markdown",
   "metadata": {},
   "source": [
    "using **randint()** Function: \n",
    "- generates a random number between a given range.\n",
    "- provides random number between minimum and maximun number.\n",
    "- Syntax: np.random.randint(minValue, maxValue, noOfValue)"
   ]
  },
  {
   "cell_type": "code",
   "execution_count": 42,
   "metadata": {},
   "outputs": [
    {
     "name": "stdout",
     "output_type": "stream",
     "text": [
      "[11 23 38 32 49 26]\n"
     ]
    }
   ],
   "source": [
    "import numpy as np\n",
    "var=np.random.randint(1, 100, 6)  # 6 random values between 1 and 100\n",
    "print(var)"
   ]
  }
 ],
 "metadata": {
  "kernelspec": {
   "display_name": "base",
   "language": "python",
   "name": "python3"
  },
  "language_info": {
   "codemirror_mode": {
    "name": "ipython",
    "version": 3
   },
   "file_extension": ".py",
   "mimetype": "text/x-python",
   "name": "python",
   "nbconvert_exporter": "python",
   "pygments_lexer": "ipython3",
   "version": "3.12.7"
  }
 },
 "nbformat": 4,
 "nbformat_minor": 2
}
