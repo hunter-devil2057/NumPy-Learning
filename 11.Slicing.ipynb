{
 "cells": [
  {
   "cell_type": "markdown",
   "metadata": {},
   "source": [
    "# **Slicing**\n",
    "> arrName[start: stop: step]"
   ]
  },
  {
   "cell_type": "code",
   "execution_count": 15,
   "metadata": {},
   "outputs": [
    {
     "name": "stdout",
     "output_type": "stream",
     "text": [
      "[1 2 3 4 5 6 7]\n",
      "Dimension:  1\n",
      "Order:  (7,)\n",
      "Size:  7\n",
      "Type:  int32\n",
      "2 to 5 [2 3 4 5]\n",
      "2 to End:  [2 3 4 5 6 7]\n",
      "Start to 5:  [1 2 3 4 5]\n",
      "1 to 7, step 2 [1 3 5 7]\n",
      "Stop:  [2 4 6]\n"
     ]
    }
   ],
   "source": [
    "import numpy as np\n",
    "var=np.array([1, 2, 3, 4, 5, 6, 7])\n",
    "print(var)\n",
    "print(\"Dimension: \", var.ndim)\n",
    "print(\"Order: \", var.shape)\n",
    "print(\"Size: \", var.size)\n",
    "print(\"Type: \", var.dtype)\n",
    "\n",
    "# Slicing \n",
    "print('2 to 5', var[1:5])\n",
    "print('2 to End: ', var[1:])\n",
    "print(\"Start to 5: \", var[:5])\n",
    "print(\"1 to 7, step 2\", var[::2])\n",
    "print(\"Stop: \", var[1::2])"
   ]
  },
  {
   "cell_type": "markdown",
   "metadata": {},
   "source": [
    "**Slicing of 2-D Array**"
   ]
  },
  {
   "cell_type": "code",
   "execution_count": 28,
   "metadata": {},
   "outputs": [
    {
     "name": "stdout",
     "output_type": "stream",
     "text": [
      "[[ 1  2  3  4  5]\n",
      " [ 9  8  7  6  5]\n",
      " [11 12 13 14 15]]\n",
      "Dimension:  2\n",
      "Order:  (3, 5)\n",
      "Size:  15\n",
      "8 to 5:  [8 7 6 5]\n",
      "8 to 5:  [8 7 6 5]\n",
      "8 to 5:  [8 7 6 5]\n",
      "12 to 15:  [12 13 14 15]\n",
      "12 to 15:  [12 13 14 15]\n",
      "12 to 15:  [12 13 14 15]\n"
     ]
    }
   ],
   "source": [
    "twoDArray=np.array([[1, 2, 3, 4, 5], [9, 8, 7, 6, 5], [11, 12, 13, 14, 15]])\n",
    "print(twoDArray)\n",
    "print(\"Dimension: \", twoDArray.ndim)\n",
    "print(\"Order: \", twoDArray.shape)\n",
    "print(\"Size: \", twoDArray.size)\n",
    "\n",
    "# Slicing Data\n",
    "print(\"8 to 5: \", twoDArray[1, 1:])\n",
    "print(\"8 to 5: \", twoDArray[-2, 1:])\n",
    "print(\"8 to 5: \", twoDArray[-2, -4:])\n",
    "print(\"12 to 15: \", twoDArray[2, 1:])\n",
    "print(\"12 to 15: \", twoDArray[-1, 1:])\n",
    "print(\"12 to 15: \", twoDArray[-1, -4:])"
   ]
  }
 ],
 "metadata": {
  "kernelspec": {
   "display_name": "base",
   "language": "python",
   "name": "python3"
  },
  "language_info": {
   "codemirror_mode": {
    "name": "ipython",
    "version": 3
   },
   "file_extension": ".py",
   "mimetype": "text/x-python",
   "name": "python",
   "nbconvert_exporter": "python",
   "pygments_lexer": "ipython3",
   "version": "3.12.7"
  }
 },
 "nbformat": 4,
 "nbformat_minor": 2
}
