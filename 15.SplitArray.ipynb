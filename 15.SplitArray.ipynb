{
 "cells": [
  {
   "cell_type": "markdown",
   "metadata": {},
   "source": [
    "**Split Array:** Splitting breaks one array into multiple\n",
    ">**np.array_split(varName, n)**\n",
    "- Where, ***n*** is the number of arrays you want to split into. "
   ]
  },
  {
   "cell_type": "code",
   "execution_count": 16,
   "metadata": {},
   "outputs": [
    {
     "name": "stdout",
     "output_type": "stream",
     "text": [
      "[1 2 3 4 5 6]\n",
      "Dimension:  1\n",
      "Order:  (6,)\n",
      "Size:  6\n",
      "[array([1, 2]), array([3, 4]), array([5, 6])]\n",
      "<class 'list'>\n",
      "[1 2]\n",
      "[3 4]\n",
      "[5 6]\n",
      "[array([1, 2]), array([3, 4]), array([5, 6])]\n"
     ]
    }
   ],
   "source": [
    "import numpy as np\n",
    "var=np.array([1, 2, 3, 4, 5, 6])\n",
    "print(var)\n",
    "print(\"Dimension: \",var.ndim)\n",
    "print(\"Order: \", var.shape)\n",
    "print(\"Size: \", var.size)\n",
    "ar=np.array_split(var, 3)\n",
    "print(ar)\n",
    "print(type(ar))\n",
    "print(ar[0])\n",
    "print(ar[1])\n",
    "print(ar[2])\n",
    "print(ar[:])"
   ]
  },
  {
   "cell_type": "code",
   "execution_count": 24,
   "metadata": {},
   "outputs": [
    {
     "name": "stdout",
     "output_type": "stream",
     "text": [
      "[[1 2]\n",
      " [3 4]\n",
      " [5 6]]\n",
      "Dimension:  2\n",
      "Order:  (3, 2)\n",
      "Size:  6\n",
      "[array([[1, 2]]), array([[3, 4]]), array([[5, 6]])]\n",
      "<class 'list'>\n",
      "[[1 2]]\n",
      "[[3 4]]\n",
      "[[5 6]]\n",
      "[array([[1, 2]]), array([[3, 4]]), array([[5, 6]])]\n"
     ]
    }
   ],
   "source": [
    "import numpy as np\n",
    "var=np.array([[1, 2], [3, 4], [5, 6]])\n",
    "print(var)\n",
    "print(\"Dimension: \",var.ndim)\n",
    "print(\"Order: \", var.shape)\n",
    "print(\"Size: \", var.size)\n",
    "ar=np.array_split(var, 3)\n",
    "print(ar)\n",
    "print(type(ar))\n",
    "print(ar[0])\n",
    "print(ar[1])\n",
    "print(ar[2])\n",
    "print(ar[:])"
   ]
  },
  {
   "cell_type": "markdown",
   "metadata": {},
   "source": [
    "also can be splitted through axis."
   ]
  },
  {
   "cell_type": "code",
   "execution_count": 25,
   "metadata": {},
   "outputs": [
    {
     "name": "stdout",
     "output_type": "stream",
     "text": [
      "[[1 2]\n",
      " [3 4]\n",
      " [5 6]]\n",
      "Dimension:  2\n",
      "Order:  (3, 2)\n",
      "Size:  6\n",
      "[array([[1],\n",
      "       [3],\n",
      "       [5]]), array([[2],\n",
      "       [4],\n",
      "       [6]]), array([], shape=(3, 0), dtype=int32)]\n",
      "<class 'list'>\n",
      "[[1]\n",
      " [3]\n",
      " [5]]\n",
      "[[2]\n",
      " [4]\n",
      " [6]]\n",
      "[]\n",
      "[array([[1],\n",
      "       [3],\n",
      "       [5]]), array([[2],\n",
      "       [4],\n",
      "       [6]]), array([], shape=(3, 0), dtype=int32)]\n"
     ]
    }
   ],
   "source": [
    "import numpy as np\n",
    "var=np.array([[1, 2], [3, 4], [5, 6]])\n",
    "print(var)\n",
    "print(\"Dimension: \",var.ndim)\n",
    "print(\"Order: \", var.shape)\n",
    "print(\"Size: \", var.size)\n",
    "ar=np.array_split(var, 3, axis=1)\n",
    "print(ar)\n",
    "print(type(ar))\n",
    "print(ar[0])\n",
    "print(ar[1])\n",
    "print(ar[2])\n",
    "print(ar[:])"
   ]
  }
 ],
 "metadata": {
  "kernelspec": {
   "display_name": "base",
   "language": "python",
   "name": "python3"
  },
  "language_info": {
   "codemirror_mode": {
    "name": "ipython",
    "version": 3
   },
   "file_extension": ".py",
   "mimetype": "text/x-python",
   "name": "python",
   "nbconvert_exporter": "python",
   "pygments_lexer": "ipython3",
   "version": "3.12.7"
  }
 },
 "nbformat": 4,
 "nbformat_minor": 2
}
