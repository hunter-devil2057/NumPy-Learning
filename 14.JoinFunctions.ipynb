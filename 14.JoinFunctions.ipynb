{
 "cells": [
  {
   "cell_type": "markdown",
   "metadata": {},
   "source": [
    "# **Join Functions in NumPy Array**"
   ]
  },
  {
   "cell_type": "markdown",
   "metadata": {},
   "source": [
    "**Join Array:** Joining means putting contents of two or more arrays in a single array."
   ]
  },
  {
   "cell_type": "markdown",
   "metadata": {},
   "source": [
    "<div style=\"text-align: center;\">\n",
    "    <img src=\"./JoinArray.png\" width= 100% height=100% alt=\"Centered Image\">\n",
    "</div>\n",
    "<p style=\"text-align: center\"><strong>Figure:</strong> Join Array in NumPy</p>"
   ]
  },
  {
   "cell_type": "code",
   "execution_count": 6,
   "metadata": {},
   "outputs": [
    {
     "name": "stdout",
     "output_type": "stream",
     "text": [
      "[1 2 3 4 9 8 7 6]\n"
     ]
    }
   ],
   "source": [
    "# Concatenating 1D Array\n",
    "import numpy as np\n",
    "var=np.array([1, 2, 3, 4])\n",
    "var1=np.array([9, 8, 7, 6])\n",
    "concat=np.concatenate((var, var1))\n",
    "print(concat)"
   ]
  },
  {
   "cell_type": "code",
   "execution_count": 11,
   "metadata": {},
   "outputs": [
    {
     "name": "stdout",
     "output_type": "stream",
     "text": [
      "Axis None or Axis Zero: \n",
      " [[1 2]\n",
      " [3 4]\n",
      " [5 6]\n",
      " [7 8]]\n",
      "Axis 1: \n",
      " [[1 2 5 6]\n",
      " [3 4 7 8]]\n"
     ]
    }
   ],
   "source": [
    "import numpy as np\n",
    "vr=np.array([[1, 2], [3, 4]])\n",
    "vr1=np.array([[5, 6], [7, 8]])\n",
    "arrRow=np.concatenate((vr, vr1))\n",
    "arrCol=np.concatenate((vr, vr1), axis=1)\n",
    "print(\"Axis None or Axis Zero: \\n\",arrRow)\n",
    "print(\"Axis 1: \\n\",arrCol)"
   ]
  },
  {
   "cell_type": "markdown",
   "metadata": {},
   "source": [
    "Using **np.stack((array1, array2), axis=___)**\n",
    "- axis may be either 0 or 1\n",
    "- 0 means row-wise and, 1 means columnwise"
   ]
  },
  {
   "cell_type": "code",
   "execution_count": 19,
   "metadata": {},
   "outputs": [
    {
     "name": "stdout",
     "output_type": "stream",
     "text": [
      "With Axis=0\n",
      "[[[1 2]\n",
      "  [3 4]]\n",
      "\n",
      " [[5 6]\n",
      "  [7 8]]]\n",
      "With Axis=1\n",
      "[[[1 2]\n",
      "  [5 6]]\n",
      "\n",
      " [[3 4]\n",
      "  [7 8]]]\n"
     ]
    }
   ],
   "source": [
    "import numpy as np\n",
    "arr1=np.array([[1, 2], [3, 4]])\n",
    "arr2=np.array([[5, 6], [7, 8]])\n",
    "res1=np.stack((arr1, arr2), axis=0)\n",
    "print(\"With Axis=0\")    #axis=0 means row wise\n",
    "print(res1)\n",
    "res2=np.stack((arr1, arr2), axis=1)\n",
    "print(\"With Axis=1\")    #axis=1 means column wise\n",
    "print(res2)"
   ]
  },
  {
   "cell_type": "markdown",
   "metadata": {},
   "source": [
    "**using np.hstack((var1, var2), axis=___)**\n",
    "- merging the arrays along rows"
   ]
  },
  {
   "cell_type": "code",
   "execution_count": 18,
   "metadata": {},
   "outputs": [
    {
     "name": "stdout",
     "output_type": "stream",
     "text": [
      "[[1 2 3 4]\n",
      " [9 8 7 6]]\n",
      "[1 2 3 4 9 8 7 6]\n"
     ]
    }
   ],
   "source": [
    "var1=np.array([1, 2, 3, 4])\n",
    "var2=np.array([9, 8, 7, 6])\n",
    "aNew=np.stack((var1, var2), axis=0)\n",
    "aNew1=np.hstack((var1, var2))\n",
    "print(aNew)\n",
    "print(aNew1)"
   ]
  },
  {
   "cell_type": "code",
   "execution_count": 22,
   "metadata": {},
   "outputs": [
    {
     "name": "stdout",
     "output_type": "stream",
     "text": [
      "With hstack\n",
      "[[1 2 5 6]\n",
      " [3 4 7 8]]\n"
     ]
    }
   ],
   "source": [
    "import numpy as np\n",
    "arr1=np.array([[1, 2], [3, 4]])\n",
    "arr2=np.array([[5, 6], [7, 8]])\n",
    "res1=np.hstack((arr1, arr2))\n",
    "print(\"With hstack\")    #axis=0 means row wise\n",
    "print(res1)"
   ]
  },
  {
   "cell_type": "markdown",
   "metadata": {},
   "source": [
    "**using np.vstack((var1, var2), axis=___)**\n",
    "- merging the arrays along colm"
   ]
  },
  {
   "cell_type": "code",
   "execution_count": 25,
   "metadata": {},
   "outputs": [
    {
     "name": "stdout",
     "output_type": "stream",
     "text": [
      "[[1 2]\n",
      " [3 4]]\n",
      "[[5 6]\n",
      " [7 8]]\n",
      "With vstack\n",
      "[[1 2]\n",
      " [3 4]\n",
      " [5 6]\n",
      " [7 8]]\n"
     ]
    }
   ],
   "source": [
    "import numpy as np\n",
    "arr1=np.array([[1, 2], [3, 4]])\n",
    "arr2=np.array([[5, 6], [7, 8]])\n",
    "res1=np.vstack((arr1, arr2))\n",
    "print(arr1)\n",
    "print(arr2)\n",
    "print(\"With vstack\")    #axis=0 means row wise\n",
    "print(res1)"
   ]
  },
  {
   "cell_type": "markdown",
   "metadata": {},
   "source": [
    "**using np.hstack((var1, var2), axis=___)**\n",
    "- merging the arrays along row-wise"
   ]
  },
  {
   "cell_type": "code",
   "execution_count": 26,
   "metadata": {},
   "outputs": [
    {
     "name": "stdout",
     "output_type": "stream",
     "text": [
      "[1 2 3 4 9 8 7 6]\n"
     ]
    }
   ],
   "source": [
    "arr1=np.array([1, 2, 3, 4])\n",
    "arr2=np.array([9, 8, 7, 6])\n",
    "combArray=np.hstack((arr1, arr2))\n",
    "print(combArray)"
   ]
  },
  {
   "cell_type": "code",
   "execution_count": 29,
   "metadata": {},
   "outputs": [
    {
     "name": "stdout",
     "output_type": "stream",
     "text": [
      "[[1 2 5 6]\n",
      " [3 4 7 8]]\n"
     ]
    }
   ],
   "source": [
    "arr1=np.array([[1, 2], [3, 4]])\n",
    "arr2=np.array([[5, 6], [7, 8]])\n",
    "combArray1=np.hstack((arr1, arr2))\n",
    "print(combArray1)"
   ]
  },
  {
   "cell_type": "markdown",
   "metadata": {},
   "source": [
    "**using np.dstack((var1, var2), axis=___)**\n",
    "- merging the arrays along height-wise"
   ]
  },
  {
   "cell_type": "code",
   "execution_count": 30,
   "metadata": {},
   "outputs": [
    {
     "name": "stdout",
     "output_type": "stream",
     "text": [
      "[[[1 5]\n",
      "  [2 6]]\n",
      "\n",
      " [[3 7]\n",
      "  [4 8]]]\n"
     ]
    }
   ],
   "source": [
    "arr1=np.array([[1, 2], [3, 4]])\n",
    "arr2=np.array([[5, 6], [7, 8]])\n",
    "combArray1=np.dstack((arr1, arr2))\n",
    "print(combArray1)"
   ]
  },
  {
   "cell_type": "code",
   "execution_count": 36,
   "metadata": {},
   "outputs": [
    {
     "name": "stdout",
     "output_type": "stream",
     "text": [
      "np.stack\n",
      "[[1 2 3 4]\n",
      " [9 8 7 6]]\n",
      "np.stack with Axis 1\n",
      "[[1 9]\n",
      " [2 8]\n",
      " [3 7]\n",
      " [4 6]]\n",
      "np.hstack\n",
      "[1 2 3 4 9 8 7 6]\n",
      "np.vstack\n",
      "[[1 2 3 4]\n",
      " [9 8 7 6]]\n",
      "np.dstack\n",
      "[[[1 9]\n",
      "  [2 8]\n",
      "  [3 7]\n",
      "  [4 6]]]\n"
     ]
    }
   ],
   "source": [
    "var1=np.array([1, 2, 3, 4])\n",
    "var2=np.array([9, 8, 7, 6])\n",
    "aNew0=np.stack((var1, var2))\n",
    "aNew=np.stack((var1, var2), axis=1)\n",
    "aNew1=np.hstack((var1, var2))   # along row\n",
    "aNew2=np.vstack((var1, var2))   # along column\n",
    "aNew3=np.dstack((var1, var2))   #along height\n",
    "print(\"np.stack\")\n",
    "print(aNew0)\n",
    "print(\"np.stack with Axis 1\")\n",
    "print(aNew)\n",
    "print(\"np.hstack\")\n",
    "print(aNew1)\n",
    "print(\"np.vstack\")\n",
    "print(aNew2)\n",
    "print(\"np.dstack\")\n",
    "print(aNew3)"
   ]
  }
 ],
 "metadata": {
  "kernelspec": {
   "display_name": "base",
   "language": "python",
   "name": "python3"
  },
  "language_info": {
   "codemirror_mode": {
    "name": "ipython",
    "version": 3
   },
   "file_extension": ".py",
   "mimetype": "text/x-python",
   "name": "python",
   "nbconvert_exporter": "python",
   "pygments_lexer": "ipython3",
   "version": "3.12.7"
  }
 },
 "nbformat": 4,
 "nbformat_minor": 2
}
