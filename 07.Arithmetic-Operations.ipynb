{
 "cells": [
  {
   "cell_type": "markdown",
   "metadata": {},
   "source": [
    "# **Arithmetic Operations in Numpy Array**"
   ]
  },
  {
   "cell_type": "markdown",
   "metadata": {},
   "source": [
    "- (a+b) => np.add(a,b)\n",
    "- (a-b) => np.subtract(a,b)\n",
    "- (a*b) => np.multiply(a,b)\n",
    "- (a/b) => np.divide(a,b)\n",
    "- (a%b) => np.mod(a,b)\n",
    "- (a**b) => np.power(a,b)\n",
    "- (1/a) => np.reciprocal(a)"
   ]
  },
  {
   "cell_type": "markdown",
   "metadata": {},
   "source": [
    "**Addition**"
   ]
  },
  {
   "cell_type": "code",
   "execution_count": 2,
   "metadata": {},
   "outputs": [
    {
     "name": "stdout",
     "output_type": "stream",
     "text": [
      "[4 5 6 7]\n"
     ]
    }
   ],
   "source": [
    "import numpy as np\n",
    "var=np.array([1,2,3,4])\n",
    "varAdd=var+3    #add 3 to each element of the array\n",
    "print(varAdd)"
   ]
  },
  {
   "cell_type": "code",
   "execution_count": 5,
   "metadata": {},
   "outputs": [
    {
     "name": "stdout",
     "output_type": "stream",
     "text": [
      "a =  [1 2 3 4]\n",
      "b =  [2 4 6 8]\n",
      "a + b =  [ 3  6  9 12]\n"
     ]
    }
   ],
   "source": [
    "import numpy as np\n",
    "arr1=np.array([1, 2, 3, 4])\n",
    "arr2=np.array([2, 4, 6, 8])\n",
    "sum=np.add(arr1, arr2)\n",
    "print(\"a = \", arr1)\n",
    "print(\"b = \", arr2)\n",
    "print(\"a + b = \", sum)"
   ]
  },
  {
   "cell_type": "markdown",
   "metadata": {},
   "source": [
    "**Subtract**"
   ]
  },
  {
   "cell_type": "code",
   "execution_count": 8,
   "metadata": {},
   "outputs": [
    {
     "name": "stdout",
     "output_type": "stream",
     "text": [
      "a =  [1 2 3 4]\n",
      "b =  [2 4 6 8]\n",
      "b - a =  [1 2 3 4]\n",
      "a - b =  [-1 -2 -3 -4]\n"
     ]
    }
   ],
   "source": [
    "import numpy as np\n",
    "arr1=np.array([1, 2, 3, 4])  \n",
    "arr2=np.array([2, 4, 6, 8])\n",
    "diff=np.subtract(arr2, arr1)\n",
    "diff1=np.subtract(arr1, arr2)\n",
    "print(\"a = \", arr1)\n",
    "print(\"b = \", arr2)\n",
    "print(\"b - a = \", diff)\n",
    "print(\"a - b = \", diff1)"
   ]
  },
  {
   "cell_type": "markdown",
   "metadata": {},
   "source": [
    "**Multiplication**"
   ]
  },
  {
   "cell_type": "code",
   "execution_count": 11,
   "metadata": {},
   "outputs": [
    {
     "name": "stdout",
     "output_type": "stream",
     "text": [
      "a =  [1 2 3 4]\n",
      "a * b =  [ 4  8 12 16]\n"
     ]
    }
   ],
   "source": [
    "import numpy as np\n",
    "arr1=np.array([1, 2, 3, 4])  \n",
    "product=np.multiply(arr1, 4)\n",
    "print(\"a = \", arr1)\n",
    "print(\"a * b = \", product)"
   ]
  },
  {
   "cell_type": "code",
   "execution_count": 10,
   "metadata": {},
   "outputs": [
    {
     "name": "stdout",
     "output_type": "stream",
     "text": [
      "a =  [1 2 3 4]\n",
      "b =  [2 4 6 8]\n",
      "a * b =  [ 2  8 18 32]\n"
     ]
    }
   ],
   "source": [
    "import numpy as np\n",
    "arr1=np.array([1, 2, 3, 4])  \n",
    "arr2=np.array([2, 4, 6, 8])\n",
    "product=np.multiply(arr1, arr2)\n",
    "print(\"a = \", arr1)\n",
    "print(\"b = \", arr2)\n",
    "print(\"a * b = \",product)"
   ]
  },
  {
   "cell_type": "markdown",
   "metadata": {},
   "source": [
    "**Division**"
   ]
  },
  {
   "cell_type": "code",
   "execution_count": 13,
   "metadata": {},
   "outputs": [
    {
     "name": "stdout",
     "output_type": "stream",
     "text": [
      "a =  [ 5 15 25 35]\n",
      "a / 5 =  [1. 3. 5. 7.]\n"
     ]
    }
   ],
   "source": [
    "import numpy as np\n",
    "arr1=np.array([5, 15, 25, 35])\n",
    "quotient=np.divide(arr1, 5)\n",
    "print(\"a = \", arr1)\n",
    "print(\"a / 5 = \", quotient)"
   ]
  },
  {
   "cell_type": "code",
   "execution_count": 14,
   "metadata": {},
   "outputs": [
    {
     "name": "stdout",
     "output_type": "stream",
     "text": [
      "a =  [ 25  50  75 100]\n",
      "b =  [ 5 10 15 20]\n",
      "b / a =  [5. 5. 5. 5.]\n"
     ]
    }
   ],
   "source": [
    "import numpy as np\n",
    "arr1=np.array([25, 50, 75, 100])  \n",
    "arr2=np.array([5, 10, 15, 20])\n",
    "quotient=np.divide(arr1, arr2)\n",
    "print(\"a = \", arr1)\n",
    "print(\"b = \", arr2)\n",
    "print(\"b / a = \", quotient)"
   ]
  },
  {
   "cell_type": "markdown",
   "metadata": {},
   "source": [
    "**Modulus**"
   ]
  },
  {
   "cell_type": "code",
   "execution_count": 15,
   "metadata": {},
   "outputs": [
    {
     "name": "stdout",
     "output_type": "stream",
     "text": [
      "a =  [25 35 45 55]\n",
      "b =  [2 4 6 8]\n",
      "a % b =  [1 3 3 7]\n"
     ]
    }
   ],
   "source": [
    "import numpy as np\n",
    "arr1=np.array([25, 35, 45, 55])  \n",
    "arr2=np.array([2, 4, 6, 8])\n",
    "modulo=np.mod(arr1, arr2)\n",
    "print(\"a = \", arr1)\n",
    "print(\"b = \", arr2)\n",
    "print(\"a % b = \", modulo)"
   ]
  },
  {
   "cell_type": "markdown",
   "metadata": {},
   "source": [
    "**Power/Exponential**"
   ]
  },
  {
   "cell_type": "code",
   "execution_count": 16,
   "metadata": {},
   "outputs": [
    {
     "name": "stdout",
     "output_type": "stream",
     "text": [
      "a =  [1 2 3 4]\n",
      "a ^ 3 =  [  1  16  81 256]\n"
     ]
    }
   ],
   "source": [
    "import numpy as np\n",
    "arr1=np.array([1, 2, 3, 4])  \n",
    "exp=np.power(arr1, 4)\n",
    "print(\"a = \", arr1)\n",
    "print(\"a ^ 3 = \", exp)"
   ]
  },
  {
   "cell_type": "code",
   "execution_count": 17,
   "metadata": {},
   "outputs": [
    {
     "name": "stdout",
     "output_type": "stream",
     "text": [
      "a =  [1 2 3 4]\n",
      "b =  [2 4 6 8]\n",
      "b ^ a =  [   2   16  216 4096]\n"
     ]
    }
   ],
   "source": [
    "import numpy as np\n",
    "arr1=np.array([1, 2, 3, 4])  \n",
    "arr2=np.array([2, 4, 6, 8])\n",
    "expo=np.power(arr2, arr1)\n",
    "print(\"a = \", arr1)\n",
    "print(\"b = \", arr2)\n",
    "print(\"b ^ a = \", expo)"
   ]
  },
  {
   "cell_type": "markdown",
   "metadata": {},
   "source": [
    "**Reciprocal**"
   ]
  },
  {
   "cell_type": "code",
   "execution_count": 21,
   "metadata": {},
   "outputs": [
    {
     "name": "stdout",
     "output_type": "stream",
     "text": [
      "a =  [1 2 3 4]\n",
      "b =  [2 4 6 8]\n",
      "1 / a =  [1 0 0 0]\n",
      "1 / b =  [0 0 0 0]\n"
     ]
    }
   ],
   "source": [
    "import numpy as np\n",
    "arr1=np.array([1, 2, 3, 4])  \n",
    "arr2=np.array([2, 4, 6, 8])\n",
    "reciprocal1=np.reciprocal(arr1)\n",
    "reciprocal2=np.reciprocal(arr2)\n",
    "print(\"a = \", arr1)\n",
    "print(\"b = \", arr2)\n",
    "print(\"1 / a = \", reciprocal1)\n",
    "print(\"1 / b = \", reciprocal2)"
   ]
  },
  {
   "cell_type": "markdown",
   "metadata": {},
   "source": [
    "**For 2D Array**"
   ]
  },
  {
   "cell_type": "code",
   "execution_count": 24,
   "metadata": {},
   "outputs": [
    {
     "name": "stdout",
     "output_type": "stream",
     "text": [
      "a =  [[1 2 3]\n",
      " [4 5 6]]\n",
      "b =  [[ 7  8  9]\n",
      " [10 11 12]]\n",
      "a + b =  [[ 8 10 12]\n",
      " [14 16 18]]\n"
     ]
    }
   ],
   "source": [
    "import numpy as np \n",
    "arr1=np.array([[1, 2, 3], [4, 5, 6]])\n",
    "arr2=np.array([[7, 8, 9], [10, 11, 12]])\n",
    "sum=np.add(arr1, arr2)\n",
    "print(\"a = \", arr1)\n",
    "print(\"b = \", arr2)\n",
    "print(\"a + b = \", sum)"
   ]
  },
  {
   "cell_type": "code",
   "execution_count": 27,
   "metadata": {},
   "outputs": [
    {
     "name": "stdout",
     "output_type": "stream",
     "text": [
      "a =  [[1 2 3]\n",
      " [4 5 6]]\n",
      "b =  [[ 7  8  9]\n",
      " [10 11 12]]\n",
      "b - a =  [[6 6 6]\n",
      " [6 6 6]]\n"
     ]
    }
   ],
   "source": [
    "import numpy as np \n",
    "arr1=np.array([[1, 2, 3], [4, 5, 6]])\n",
    "arr2=np.array([[7, 8, 9], [10, 11, 12]])\n",
    "diff=np.subtract(arr2, arr1)\n",
    "print(\"a = \", arr1)\n",
    "print(\"b = \", arr2)\n",
    "print(\"b - a = \", diff)"
   ]
  },
  {
   "cell_type": "code",
   "execution_count": 28,
   "metadata": {},
   "outputs": [
    {
     "name": "stdout",
     "output_type": "stream",
     "text": [
      "a =  [[1 2 3]\n",
      " [4 5 6]]\n",
      "b =  [[ 7  8  9]\n",
      " [10 11 12]]\n",
      "a * b =  [[ 7 16 27]\n",
      " [40 55 72]]\n"
     ]
    }
   ],
   "source": [
    "import numpy as np \n",
    "arr1=np.array([[1, 2, 3], [4, 5, 6]])\n",
    "arr2=np.array([[7, 8, 9], [10, 11, 12]])\n",
    "product=np.multiply(arr1, arr2)\n",
    "print(\"a = \", arr1)\n",
    "print(\"b = \", arr2)\n",
    "print(\"a * b = \", product)"
   ]
  },
  {
   "cell_type": "code",
   "execution_count": 30,
   "metadata": {},
   "outputs": [
    {
     "name": "stdout",
     "output_type": "stream",
     "text": [
      "a =  [[1 2 3]\n",
      " [4 5 6]]\n",
      "b =  [[ 7  8  9]\n",
      " [10 11 12]]\n",
      "b / a =  [[7.  4.  3. ]\n",
      " [2.5 2.2 2. ]]\n"
     ]
    }
   ],
   "source": [
    "import numpy as np \n",
    "arr1=np.array([[1, 2, 3], [4, 5, 6]])\n",
    "arr2=np.array([[7, 8, 9], [10, 11, 12]])\n",
    "quotient=np.divide(arr2, arr1)\n",
    "print(\"a = \", arr1)\n",
    "print(\"b = \", arr2)\n",
    "print(\"b / a = \", quotient)"
   ]
  }
 ],
 "metadata": {
  "kernelspec": {
   "display_name": "base",
   "language": "python",
   "name": "python3"
  },
  "language_info": {
   "codemirror_mode": {
    "name": "ipython",
    "version": 3
   },
   "file_extension": ".py",
   "mimetype": "text/x-python",
   "name": "python",
   "nbconvert_exporter": "python",
   "pygments_lexer": "ipython3",
   "version": "3.12.7"
  }
 },
 "nbformat": 4,
 "nbformat_minor": 2
}
