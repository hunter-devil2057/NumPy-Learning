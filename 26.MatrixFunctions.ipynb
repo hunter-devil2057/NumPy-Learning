{
 "cells": [
  {
   "cell_type": "markdown",
   "metadata": {},
   "source": [
    "# **Matrix Functions in NumPy Arrays**\n",
    "> - Transpose\n",
    "> - Swapaxes: swaps axis, row to column and column to rows\n",
    "> - Inverse\n",
    "> - Power\n",
    "> - Determinate"
   ]
  },
  {
   "cell_type": "markdown",
   "metadata": {},
   "source": [
    "**Transpose of Matrix**"
   ]
  },
  {
   "cell_type": "code",
   "execution_count": 5,
   "metadata": {},
   "outputs": [
    {
     "name": "stdout",
     "output_type": "stream",
     "text": [
      "[[1 2 3]\n",
      " [4 5 6]\n",
      " [7 8 9]]\n",
      "Transpose of Above Matrix is: \n",
      "[[1 4 7]\n",
      " [2 5 8]\n",
      " [3 6 9]]\n",
      "[[1 4 7]\n",
      " [2 5 8]\n",
      " [3 6 9]]\n"
     ]
    }
   ],
   "source": [
    "import numpy as np\n",
    "mat=np.matrix([[1,2,3],[4,5,6],[7,8,9]])\n",
    "print(mat)\n",
    "print(\"Transpose of Above Matrix is: \")\n",
    "print(mat.T)\n",
    "print(np.transpose(mat))"
   ]
  },
  {
   "cell_type": "markdown",
   "metadata": {},
   "source": [
    "**Swapaxes**"
   ]
  },
  {
   "cell_type": "code",
   "execution_count": 17,
   "metadata": {},
   "outputs": [
    {
     "name": "stdout",
     "output_type": "stream",
     "text": [
      "[[1 2 3]\n",
      " [4 5 6]\n",
      " [7 8 9]]\n",
      "Swapaxes of Above Matrix is: \n",
      "[[1 4 7]\n",
      " [2 5 8]\n",
      " [3 6 9]]\n"
     ]
    }
   ],
   "source": [
    "import numpy as np\n",
    "mat=np.matrix([[1,2,3],[4,5,6],[7,8,9]])\n",
    "print(mat)\n",
    "print(\"Swapaxes of Above Matrix is: \")\n",
    "print(np.swapaxes(mat, 0, 1))"
   ]
  },
  {
   "cell_type": "markdown",
   "metadata": {},
   "source": [
    "**Inverse**"
   ]
  },
  {
   "cell_type": "code",
   "execution_count": 21,
   "metadata": {},
   "outputs": [
    {
     "name": "stdout",
     "output_type": "stream",
     "text": [
      "[[1 2 3]\n",
      " [4 5 6]\n",
      " [7 8 9]]\n",
      "Inverse of Above Matrix is: \n",
      "[[-4.50359963e+15  9.00719925e+15 -4.50359963e+15]\n",
      " [ 9.00719925e+15 -1.80143985e+16  9.00719925e+15]\n",
      " [-4.50359963e+15  9.00719925e+15 -4.50359963e+15]]\n"
     ]
    }
   ],
   "source": [
    "import numpy as np\n",
    "mat=np.matrix([[1,2,3],[4,5,6],[7,8,9]])\n",
    "print(mat)\n",
    "print(\"Inverse of Above Matrix is: \")\n",
    "print(np.linalg.inv(mat))"
   ]
  },
  {
   "cell_type": "markdown",
   "metadata": {},
   "source": [
    "**Power**\n",
    "- using, **np.linalg.matrix_power(arrName, n)**\n",
    "    - When, n=0, gives identity matrix (diagonal matrix with 1)\n",
    "    - When, n>0, power applies i.e, A^2=AxA\n",
    "    - When, n<0, inverse applies"
   ]
  },
  {
   "cell_type": "code",
   "execution_count": 27,
   "metadata": {},
   "outputs": [
    {
     "name": "stdout",
     "output_type": "stream",
     "text": [
      "[[1 2 3]\n",
      " [4 5 6]\n",
      " [7 8 9]]\n",
      "Power of Above Matrix is: \n",
      "[[ 30  36  42]\n",
      " [ 66  81  96]\n",
      " [102 126 150]]\n"
     ]
    }
   ],
   "source": [
    "import numpy as np\n",
    "mat=np.matrix([[1,2,3],[4,5,6],[7,8,9]])\n",
    "print(mat)\n",
    "print(\"Power of Above Matrix is: \")\n",
    "# Power of A= A.A\n",
    "print(np.linalg.matrix_power(mat, 2))"
   ]
  },
  {
   "cell_type": "markdown",
   "metadata": {},
   "source": [
    "**Determinate**"
   ]
  },
  {
   "cell_type": "code",
   "execution_count": 32,
   "metadata": {},
   "outputs": [
    {
     "name": "stdout",
     "output_type": "stream",
     "text": [
      "[[1 2 3]\n",
      " [4 5 6]\n",
      " [7 8 9]]\n",
      "Determinate of Above Matrix is: \n",
      "6.66133814775094e-16\n"
     ]
    }
   ],
   "source": [
    "import numpy as np\n",
    "mat=np.matrix([[1,2,3],[4,5,6],[7,8,9]])\n",
    "print(mat)\n",
    "print(\"Determinate of Above Matrix is: \")\n",
    "# Power of A= A.A\n",
    "print(np.linalg.det(mat))"
   ]
  }
 ],
 "metadata": {
  "kernelspec": {
   "display_name": "base",
   "language": "python",
   "name": "python3"
  },
  "language_info": {
   "codemirror_mode": {
    "name": "ipython",
    "version": 3
   },
   "file_extension": ".py",
   "mimetype": "text/x-python",
   "name": "python",
   "nbconvert_exporter": "python",
   "pygments_lexer": "ipython3",
   "version": "3.12.7"
  }
 },
 "nbformat": 4,
 "nbformat_minor": 2
}
