{
 "cells": [
  {
   "cell_type": "markdown",
   "metadata": {},
   "source": [
    "# **Data Types**"
   ]
  },
  {
   "cell_type": "markdown",
   "metadata": {},
   "source": [
    "1. **bool_:** Boolean (True or False) stored as a byte\n",
    "2. **int_:** Default integer type (same as C long; normally either int64 or int32)\n",
    "3. **Intc:** Identical to C int (normally int32 or int64)\n",
    "4. **Intp:** Integer used for indexing (same as C size t; normally either int32 or int64)\n",
    "5. **int8:** Byte (-128 to 127)\n",
    "6. **int16:** Integer (-32768 to 32767)\n",
    "7. **int32:** Integer (-2147483648 to 2147483647)\n",
    "8. **int64:** Integer (-9223372036854775808 to 9223372036954775808)\n",
    "9. **uint8:** Unsigned integer (0 to 255)\n",
    "10. **uint16:** Unsigned Integer (0 to 65535)\n",
    "11. **uint32:** Unsigned Integer (0 to 4294967295)\n",
    "12. **uint64:** Unsigned Integer (0 to 18446744073709551615)\n",
    "13. **float_:** Shorthand for float64\n",
    "14. **float16:** Half precision float: sign bit, 5 bits exponent, 10 bits mantissa\n",
    "15. **float32:** Single precision float: sign bit, 8 bits exponent, 23 bits mantissa\n",
    "16. **float64:** Double precision float: sign bit, 11 bits exponent, 52 bits mantissa\n",
    "17. **complex_:** Shorthand for complex128\n",
    "18. **complex64:** Complex number, represented by 32-bit floats (real and imaginary components)\n",
    "19. **complex128:** Complex number, represented by two 64-bit floats (real and imaginary components)\n"
   ]
  },
  {
   "cell_type": "code",
   "execution_count": 7,
   "metadata": {},
   "outputs": [
    {
     "name": "stdout",
     "output_type": "stream",
     "text": [
      "Data Type:  int32\n",
      "Data Type:  int64\n",
      "Data Type:  <U32\n"
     ]
    }
   ],
   "source": [
    "import numpy as np\n",
    "var=np.array([1, 2, 3, 4])\n",
    "print(\"Data Type: \", var.dtype)\n",
    "\n",
    "y= np.array([11, 12, 13, 14, 112, 3123123, 1231, 231234123123123123, 12312312312312312])\n",
    "print(\"Data Type: \", y.dtype)\n",
    "\n",
    "str=np.array([\"manish\", 12, \"is\", \"a\", 12.342, \"boy\"])\n",
    "print(\"Data Type: \", str.dtype)"
   ]
  },
  {
   "cell_type": "markdown",
   "metadata": {},
   "source": [
    "# **Data Types as a Function**\n",
    "- List of Characters that are used to represent dtype in Numpy: \n",
    "    - **i:** integer\n",
    "    - **b:** boolean\n",
    "    - **u:** unsigned integer\n",
    "    - **f:** float\n",
    "    - **c:** complex float\n",
    "    - **m:** timedelta\n",
    "    - **M:** datetime\n",
    "    - **O:** object\n",
    "    - **S:** string\n",
    "    - **U:** Unicode String\n",
    "    - **V:** Fixed Chunk of memory for other types (void)"
   ]
  },
  {
   "cell_type": "code",
   "execution_count": 9,
   "metadata": {},
   "outputs": [
    {
     "name": "stdout",
     "output_type": "stream",
     "text": [
      "int32\n"
     ]
    }
   ],
   "source": [
    "x=np.array([1, 2, 3, 4])\n",
    "print(x.dtype)"
   ]
  },
  {
   "cell_type": "markdown",
   "metadata": {},
   "source": [
    "**Converting int32 to int8**"
   ]
  },
  {
   "cell_type": "code",
   "execution_count": 16,
   "metadata": {},
   "outputs": [
    {
     "name": "stdout",
     "output_type": "stream",
     "text": [
      "int8\n"
     ]
    }
   ],
   "source": [
    "x=np.array([1, 2, 3, 4], dtype=np.int8)\n",
    "print(x.dtype)"
   ]
  },
  {
   "cell_type": "markdown",
   "metadata": {},
   "source": [
    "**Converting int to float**"
   ]
  },
  {
   "cell_type": "code",
   "execution_count": 17,
   "metadata": {},
   "outputs": [
    {
     "name": "stdout",
     "output_type": "stream",
     "text": [
      "[1. 2. 3. 4. 5.]\n",
      "Data Type:  float32\n"
     ]
    }
   ],
   "source": [
    "x1=np.array([1, 2, 3, 4, 5], dtype='f')\n",
    "print(x1)\n",
    "print(\"Data Type: \", x1.dtype)"
   ]
  },
  {
   "cell_type": "code",
   "execution_count": 23,
   "metadata": {},
   "outputs": [
    {
     "name": "stdout",
     "output_type": "stream",
     "text": [
      "Data Type:  int32\n",
      "[1 2 3 4 5]\n",
      "Data Type:  float32\n",
      "[1. 2. 3. 4. 5.]\n"
     ]
    }
   ],
   "source": [
    "x1=np.array([1, 2, 3, 4, 5])\n",
    "new=np.float32(x1)\n",
    "print(\"Data Type: \", x1.dtype)\n",
    "print(x1)\n",
    "\n",
    "print(\"Data Type: \", new.dtype)\n",
    "print(new)"
   ]
  },
  {
   "cell_type": "markdown",
   "metadata": {},
   "source": [
    "**Converting Float into Integer**"
   ]
  },
  {
   "cell_type": "code",
   "execution_count": 30,
   "metadata": {},
   "outputs": [
    {
     "name": "stdout",
     "output_type": "stream",
     "text": [
      "Data Type:  float64\n",
      "[1. 2. 3. 4. 5.]\n",
      "Data Type:  int32\n",
      "[1 2 3 4 5]\n"
     ]
    }
   ],
   "source": [
    "x2=np.array([1.0, 2.0, 3.0, 4.0, 5.0])\n",
    "new1=np.int_(x2)\n",
    "print(\"Data Type: \", x2.dtype)\n",
    "print(x2)\n",
    "print(\"Data Type: \", new1.dtype)\n",
    "print(new1)"
   ]
  },
  {
   "cell_type": "markdown",
   "metadata": {},
   "source": [
    "**Directly Changing Data Type**"
   ]
  },
  {
   "cell_type": "code",
   "execution_count": 31,
   "metadata": {},
   "outputs": [
    {
     "name": "stdout",
     "output_type": "stream",
     "text": [
      "[1 2 3 4 5]\n",
      "Data Type:  int32\n",
      "[1. 2. 3. 4. 5.]\n",
      "Data Type:  float64\n"
     ]
    }
   ],
   "source": [
    "x3=np.array([1, 2, 3, 4, 5])\n",
    "new1=x2.astype(float)\n",
    "print(x3)\n",
    "print(\"Data Type: \", x3.dtype)\n",
    "print(new1)\n",
    "print(\"Data Type: \", new1.dtype)"
   ]
  }
 ],
 "metadata": {
  "kernelspec": {
   "display_name": "base",
   "language": "python",
   "name": "python3"
  },
  "language_info": {
   "codemirror_mode": {
    "name": "ipython",
    "version": 3
   },
   "file_extension": ".py",
   "mimetype": "text/x-python",
   "name": "python",
   "nbconvert_exporter": "python",
   "pygments_lexer": "ipython3",
   "version": "3.12.7"
  }
 },
 "nbformat": 4,
 "nbformat_minor": 2
}
