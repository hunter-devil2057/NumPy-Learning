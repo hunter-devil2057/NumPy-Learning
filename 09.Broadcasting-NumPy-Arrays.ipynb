{
 "cells": [
  {
   "cell_type": "markdown",
   "metadata": {},
   "source": [
    "# **Broadcasting NumPy Arrays**"
   ]
  },
  {
   "cell_type": "markdown",
   "metadata": {},
   "source": [
    "- Dimension of matrices should be same. \n",
    "- Compatible if, \n",
    "    - Order of Both are equal \n",
    "    - Or one of them is 1"
   ]
  },
  {
   "cell_type": "code",
   "execution_count": 1,
   "metadata": {},
   "outputs": [
    {
     "ename": "ValueError",
     "evalue": "operands could not be broadcast together with shapes (5,) (3,) ",
     "output_type": "error",
     "traceback": [
      "\u001b[1;31m---------------------------------------------------------------------------\u001b[0m",
      "\u001b[1;31mValueError\u001b[0m                                Traceback (most recent call last)",
      "Cell \u001b[1;32mIn[1], line 4\u001b[0m\n\u001b[0;32m      2\u001b[0m arr1\u001b[38;5;241m=\u001b[39mnp\u001b[38;5;241m.\u001b[39marray([\u001b[38;5;241m1\u001b[39m, \u001b[38;5;241m3\u001b[39m, \u001b[38;5;241m5\u001b[39m, \u001b[38;5;241m7\u001b[39m, \u001b[38;5;241m9\u001b[39m])\n\u001b[0;32m      3\u001b[0m arr2\u001b[38;5;241m=\u001b[39mnp\u001b[38;5;241m.\u001b[39marray([\u001b[38;5;241m2\u001b[39m, \u001b[38;5;241m4\u001b[39m, \u001b[38;5;241m6\u001b[39m])\n\u001b[1;32m----> 4\u001b[0m \u001b[38;5;28msum\u001b[39m\u001b[38;5;241m=\u001b[39mnp\u001b[38;5;241m.\u001b[39madd(arr1, arr2)\n\u001b[0;32m      5\u001b[0m \u001b[38;5;28mprint\u001b[39m(\u001b[38;5;28msum\u001b[39m)\n",
      "\u001b[1;31mValueError\u001b[0m: operands could not be broadcast together with shapes (5,) (3,) "
     ]
    }
   ],
   "source": [
    "import numpy as np\n",
    "arr1=np.array([1, 3, 5, 7, 9])\n",
    "arr2=np.array([2, 4, 6])\n",
    "sum=np.add(arr1, arr2)\n",
    "print(sum)"
   ]
  },
  {
   "cell_type": "code",
   "execution_count": 2,
   "metadata": {},
   "outputs": [
    {
     "name": "stdout",
     "output_type": "stream",
     "text": [
      "[ 3  7 11 15 19]\n"
     ]
    }
   ],
   "source": [
    "import numpy as np\n",
    "arr1=np.array([1, 3, 5, 7, 9])\n",
    "arr2=np.array([2, 4, 6, 8, 10])\n",
    "sum=np.add(arr1, arr2)\n",
    "print(sum)"
   ]
  },
  {
   "cell_type": "code",
   "execution_count": 7,
   "metadata": {},
   "outputs": [
    {
     "name": "stdout",
     "output_type": "stream",
     "text": [
      "[1 2 3]\n",
      "(3,)\n",
      "[[1]\n",
      " [2]\n",
      " [3]]\n",
      "(3, 1)\n",
      "[[2 3 4]\n",
      " [3 4 5]\n",
      " [4 5 6]]\n"
     ]
    }
   ],
   "source": [
    "import numpy as np\n",
    "arr1=np.array([1, 2, 3])\n",
    "arr1Shape=arr1.shape\n",
    "print(arr1)\n",
    "print(arr1Shape)\n",
    "arr2=np.array([[1], [2], [3]])\n",
    "arr2Shape=arr2.shape\n",
    "print(arr2)\n",
    "print(arr2Shape)\n",
    "sum=np.add(arr1, arr2)\n",
    "print(sum)"
   ]
  },
  {
   "cell_type": "code",
   "execution_count": 2,
   "metadata": {},
   "outputs": [
    {
     "name": "stdout",
     "output_type": "stream",
     "text": [
      "[[1]\n",
      " [2]]\n",
      "Dimension of Array:  (2, 1)\n",
      "[[1 2 3]\n",
      " [1 2 3]]\n",
      "Dimension of Array:  (2, 3)\n",
      "Sum=\n",
      " [[2 3 4]\n",
      " [3 4 5]]\n",
      "Dimension of Array:  (2, 3)\n"
     ]
    }
   ],
   "source": [
    "import numpy as np\n",
    "x=np.array([[1], [2]])\n",
    "print(x)\n",
    "print(\"Dimension of Array: \", x.shape)\n",
    "y=np.array([[1, 2, 3], [1, 2, 3]])\n",
    "print(y)\n",
    "print(\"Dimension of Array: \", y.shape)\n",
    "\n",
    "sum=np.add(x, y)\n",
    "print(\"Sum=\\n\", sum)\n",
    "print(\"Dimension of Array: \", sum.shape)"
   ]
  }
 ],
 "metadata": {
  "kernelspec": {
   "display_name": "base",
   "language": "python",
   "name": "python3"
  },
  "language_info": {
   "codemirror_mode": {
    "name": "ipython",
    "version": 3
   },
   "file_extension": ".py",
   "mimetype": "text/x-python",
   "name": "python",
   "nbconvert_exporter": "python",
   "pygments_lexer": "ipython3",
   "version": "3.12.7"
  }
 },
 "nbformat": 4,
 "nbformat_minor": 2
}
