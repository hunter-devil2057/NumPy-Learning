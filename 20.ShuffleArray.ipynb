{
 "cells": [
  {
   "cell_type": "markdown",
   "metadata": {},
   "source": [
    "**Shuffle**\n",
    "> - can be done by using **np.random.shuffle(varName)**"
   ]
  },
  {
   "cell_type": "code",
   "execution_count": 1,
   "metadata": {},
   "outputs": [
    {
     "name": "stdout",
     "output_type": "stream",
     "text": [
      "[ 1  2  3  4  5 59 32 41 14 19]\n",
      "[59 41 19  1 14  5  4  2  3 32]\n"
     ]
    }
   ],
   "source": [
    "import numpy as np\n",
    "import random\n",
    "var=np.array([1, 2, 3, 4, 5, 59, 32, 41, 14, 19])\n",
    "print(var)\n",
    "np.random.shuffle(var)\n",
    "print(var)"
   ]
  }
 ],
 "metadata": {
  "kernelspec": {
   "display_name": "base",
   "language": "python",
   "name": "python3"
  },
  "language_info": {
   "codemirror_mode": {
    "name": "ipython",
    "version": 3
   },
   "file_extension": ".py",
   "mimetype": "text/x-python",
   "name": "python",
   "nbconvert_exporter": "python",
   "pygments_lexer": "ipython3",
   "version": "3.12.7"
  }
 },
 "nbformat": 4,
 "nbformat_minor": 2
}
