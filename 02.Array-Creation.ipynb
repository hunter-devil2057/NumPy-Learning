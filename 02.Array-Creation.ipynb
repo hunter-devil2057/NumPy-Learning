{
 "cells": [
  {
   "cell_type": "markdown",
   "metadata": {},
   "source": [
    "# **Array**"
   ]
  },
  {
   "cell_type": "code",
   "execution_count": 5,
   "metadata": {},
   "outputs": [
    {
     "name": "stdout",
     "output_type": "stream",
     "text": [
      "List x= [1, 2, 3, 4]\n",
      "Type of x= <class 'list'>\n",
      "Array y= [1 2 3 4]\n",
      "Type of y= <class 'numpy.ndarray'>\n"
     ]
    }
   ],
   "source": [
    "import numpy as np\n",
    "# Defining list with some values\n",
    "x=[1, 2, 3, 4]\n",
    "print(\"List x=\", x)\n",
    "print(\"Type of x=\", type(x))\n",
    "\n",
    "# Converting List into Arrays\n",
    "y=np.array(x)\n",
    "print(\"Array y=\", y)\n",
    "print(\"Type of y=\", type(y))"
   ]
  },
  {
   "cell_type": "code",
   "execution_count": 7,
   "metadata": {},
   "outputs": [
    {
     "name": "stdout",
     "output_type": "stream",
     "text": [
      "[1 2 3 4]\n",
      "Array x= [1 2 3 4]\n",
      "Type of x= <class 'numpy.ndarray'>\n"
     ]
    }
   ],
   "source": [
    "# Directly passing list in an array function\n",
    "x=np.array([1, 2, 3, 4])\n",
    "print(x)\n",
    "print(\"Array x=\", x)\n",
    "print(\"Type of x=\", type(x))"
   ]
  },
  {
   "cell_type": "markdown",
   "metadata": {},
   "source": [
    "**Displaying Array By Asking from the User**"
   ]
  },
  {
   "cell_type": "code",
   "execution_count": 13,
   "metadata": {},
   "outputs": [
    {
     "name": "stdout",
     "output_type": "stream",
     "text": [
      "Array= [9 8 7 6 5 4]\n",
      "<class 'numpy.ndarray'>\n"
     ]
    }
   ],
   "source": [
    "emptyList=[]\n",
    "size=int(input(\"Enter the Number of Element in An Array: \"))\n",
    "for i in range(1, size+1):\n",
    "    element1=int(input(f\"Enter Element No. {i}: \"))\n",
    "    emptyList.append(element1)\n",
    "arrayDemo=np.array(emptyList)\n",
    "print(\"Array=\", arrayDemo)\n",
    "print(type(arrayDemo))"
   ]
  },
  {
   "cell_type": "markdown",
   "metadata": {},
   "source": [
    "**Types/Dimensions in An Array:** \n",
    "- **1-D Arrays:** [1 2 3 4 5]\n",
    "- **2-D Arrays:** [[1 2 3 4 5]]\n",
    "- **3-D Arrays:** [[[1 2 3 4 5]]]\n",
    "- **Higher Dimensional Arrays**"
   ]
  },
  {
   "cell_type": "code",
   "execution_count": 15,
   "metadata": {},
   "outputs": [
    {
     "name": "stdout",
     "output_type": "stream",
     "text": [
      "One Dimensional Array= [1 2 3 4]\n",
      "Dimension:  1\n"
     ]
    }
   ],
   "source": [
    "oneDimensionalArray=np.array([1, 2, 3, 4])\n",
    "print(\"One Dimensional Array=\", oneDimensionalArray)\n",
    "print(\"Dimension: \", oneDimensionalArray.ndim)"
   ]
  },
  {
   "cell_type": "code",
   "execution_count": 16,
   "metadata": {},
   "outputs": [
    {
     "name": "stdout",
     "output_type": "stream",
     "text": [
      "Two Dimensional Array:  [[1 2 3]\n",
      " [4 5 6]]\n",
      "Dimension:  2\n"
     ]
    }
   ],
   "source": [
    "twoDimensionalArray=np.array([[1, 2, 3], [4, 5, 6]])\n",
    "print(\"Two Dimensional Array: \", twoDimensionalArray)\n",
    "print(\"Dimension: \", twoDimensionalArray.ndim)"
   ]
  },
  {
   "cell_type": "code",
   "execution_count": 19,
   "metadata": {},
   "outputs": [
    {
     "name": "stdout",
     "output_type": "stream",
     "text": [
      "Array= [[ 1  2  3  4]\n",
      " [ 1  2  3  4]\n",
      " [ 5  6  7  8]\n",
      " [ 9 10 11 12]]\n",
      "Dimension= 2\n"
     ]
    }
   ],
   "source": [
    "# Two-Dimensional Array\n",
    "arr2=np.array([[1, 2, 3, 4], [1, 2, 3, 4], [5, 6, 7, 8], [9, 10, 11, 12]])\n",
    "print(\"Array=\", arr2)\n",
    "print(\"Dimension=\", arr2.ndim)"
   ]
  },
  {
   "cell_type": "code",
   "execution_count": 26,
   "metadata": {},
   "outputs": [
    {
     "name": "stdout",
     "output_type": "stream",
     "text": [
      "Array: \n",
      " [[[1 2 3 4]\n",
      "  [1 2 3 4]\n",
      "  [1 2 3 4]]]\n",
      "Dimension:  3\n"
     ]
    }
   ],
   "source": [
    "# Three Dimensional Array\n",
    "arr3=np.array([[[1, 2, 3, 4], [1, 2, 3, 4], [1, 2, 3, 4]]])\n",
    "print(\"Array: \\n\", arr3)\n",
    "print(\"Dimension: \", arr3.ndim)"
   ]
  },
  {
   "cell_type": "markdown",
   "metadata": {},
   "source": [
    "**Higher Dimensional Array** "
   ]
  },
  {
   "cell_type": "code",
   "execution_count": 28,
   "metadata": {},
   "outputs": [
    {
     "name": "stdout",
     "output_type": "stream",
     "text": [
      "Array: \n",
      " [[[[[[[[[[1 2 3 4]]]]]]]]]]\n",
      "Dimension:  10\n"
     ]
    }
   ],
   "source": [
    "arrHigh=np.array([1, 2, 3, 4], ndmin=10)\n",
    "print(\"Array: \\n\", arrHigh)\n",
    "print(\"Dimension: \", arrHigh.ndim)"
   ]
  }
 ],
 "metadata": {
  "kernelspec": {
   "display_name": "base",
   "language": "python",
   "name": "python3"
  },
  "language_info": {
   "codemirror_mode": {
    "name": "ipython",
    "version": 3
   },
   "file_extension": ".py",
   "mimetype": "text/x-python",
   "name": "python",
   "nbconvert_exporter": "python",
   "pygments_lexer": "ipython3",
   "version": "3.12.7"
  }
 },
 "nbformat": 4,
 "nbformat_minor": 2
}
