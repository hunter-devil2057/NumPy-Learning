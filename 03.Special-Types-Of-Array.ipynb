{
 "cells": [
  {
   "cell_type": "markdown",
   "metadata": {},
   "source": [
    "# **Special Types of Array (filled with specific value)**"
   ]
  },
  {
   "cell_type": "markdown",
   "metadata": {},
   "source": [
    "- Array filled with 0's \n",
    "- Array filled with 1's\n",
    "- Create an empty array\n",
    "- An array with a range of elements \n",
    "- Array diagonal element filled with 1's\n",
    "- Create an array with values that are spaced linearly in a specified interval. "
   ]
  },
  {
   "cell_type": "markdown",
   "metadata": {},
   "source": [
    "**Array Filled with 0's**"
   ]
  },
  {
   "cell_type": "code",
   "execution_count": 6,
   "metadata": {},
   "outputs": [
    {
     "name": "stdout",
     "output_type": "stream",
     "text": [
      "[0. 0. 0. 0. 0. 0.]\n",
      "Dimension:  1\n"
     ]
    }
   ],
   "source": [
    "import numpy as np\n",
    "arrZero=np.zeros(6) # For Single Dimensional Array\n",
    "print(arrZero)\n",
    "print(\"Dimension: \", arrZero.ndim)"
   ]
  },
  {
   "cell_type": "code",
   "execution_count": 10,
   "metadata": {},
   "outputs": [
    {
     "name": "stdout",
     "output_type": "stream",
     "text": [
      "[[0. 0. 0. 0. 0.]\n",
      " [0. 0. 0. 0. 0.]\n",
      " [0. 0. 0. 0. 0.]]\n",
      "Dimension:  2\n"
     ]
    }
   ],
   "source": [
    "import numpy as np \n",
    "# arrZero1=np.zeros(9)\n",
    "arrZero2=np.zeros((3,5)) # For Two Dimensional Array\n",
    "# 3 rows and 5 columns\n",
    "print(arrZero2)\n",
    "print(\"Dimension: \", arrZero2.ndim)"
   ]
  },
  {
   "cell_type": "code",
   "execution_count": 13,
   "metadata": {},
   "outputs": [
    {
     "name": "stdout",
     "output_type": "stream",
     "text": [
      "[[[0. 0. 0. 0.]\n",
      "  [0. 0. 0. 0.]\n",
      "  [0. 0. 0. 0.]]\n",
      "\n",
      " [[0. 0. 0. 0.]\n",
      "  [0. 0. 0. 0.]\n",
      "  [0. 0. 0. 0.]]\n",
      "\n",
      " [[0. 0. 0. 0.]\n",
      "  [0. 0. 0. 0.]\n",
      "  [0. 0. 0. 0.]]]\n",
      "Dimension:  3\n"
     ]
    }
   ],
   "source": [
    "# For Three Dimensional Array \n",
    "import numpy as np\n",
    "arrZero3=np.zeros((3, 3, 4))    # Form Three Dimensional Array\n",
    "# 3 arrays with, 3 rows and 4 columns\n",
    "print(arrZero3)\n",
    "print(\"Dimension: \", arrZero3.ndim)"
   ]
  },
  {
   "cell_type": "markdown",
   "metadata": {},
   "source": [
    "# **Array Filled with 1's**"
   ]
  },
  {
   "cell_type": "code",
   "execution_count": 15,
   "metadata": {},
   "outputs": [
    {
     "name": "stdout",
     "output_type": "stream",
     "text": [
      "[1. 1. 1. 1. 1. 1.]\n",
      "Dimension of Array:  1\n"
     ]
    }
   ],
   "source": [
    "# For Single Dimensional Array\n",
    "import numpy as np\n",
    "arr1=np.ones(6) # with 6 elements as 1\n",
    "print(arr1)\n",
    "print(\"Dimension of Array: \", arr1.ndim)"
   ]
  },
  {
   "cell_type": "code",
   "execution_count": 20,
   "metadata": {},
   "outputs": [
    {
     "name": "stdout",
     "output_type": "stream",
     "text": [
      "[[1. 1. 1. 1. 1.]\n",
      " [1. 1. 1. 1. 1.]\n",
      " [1. 1. 1. 1. 1.]\n",
      " [1. 1. 1. 1. 1.]]\n",
      "Dimension of Array:  2\n"
     ]
    }
   ],
   "source": [
    "# For Two Dimensional Array\n",
    "import numpy as np \n",
    "arr2=np.ones((4, 5))  #with 4 rows and 5 columns as '1' element\n",
    "print(arr2)\n",
    "print(\"Dimension of Array: \", arr2.ndim)"
   ]
  },
  {
   "cell_type": "code",
   "execution_count": 21,
   "metadata": {},
   "outputs": [
    {
     "name": "stdout",
     "output_type": "stream",
     "text": [
      "[[[1. 1. 1. 1. 1.]\n",
      "  [1. 1. 1. 1. 1.]\n",
      "  [1. 1. 1. 1. 1.]\n",
      "  [1. 1. 1. 1. 1.]\n",
      "  [1. 1. 1. 1. 1.]]\n",
      "\n",
      " [[1. 1. 1. 1. 1.]\n",
      "  [1. 1. 1. 1. 1.]\n",
      "  [1. 1. 1. 1. 1.]\n",
      "  [1. 1. 1. 1. 1.]\n",
      "  [1. 1. 1. 1. 1.]]\n",
      "\n",
      " [[1. 1. 1. 1. 1.]\n",
      "  [1. 1. 1. 1. 1.]\n",
      "  [1. 1. 1. 1. 1.]\n",
      "  [1. 1. 1. 1. 1.]\n",
      "  [1. 1. 1. 1. 1.]]\n",
      "\n",
      " [[1. 1. 1. 1. 1.]\n",
      "  [1. 1. 1. 1. 1.]\n",
      "  [1. 1. 1. 1. 1.]\n",
      "  [1. 1. 1. 1. 1.]\n",
      "  [1. 1. 1. 1. 1.]]]\n",
      "Dimension of Array:  3\n"
     ]
    }
   ],
   "source": [
    "# For Three Dimensional Array \n",
    "import numpy as np \n",
    "arr3=np.ones((4, 5, 5)) #with 4 arrays, 5 rows and 5 columns as '1' element\n",
    "print(arr3)\n",
    "print(\"Dimension of Array: \", arr3.ndim)"
   ]
  },
  {
   "cell_type": "markdown",
   "metadata": {},
   "source": [
    "# **Creating an Empty Array**"
   ]
  },
  {
   "cell_type": "code",
   "execution_count": 23,
   "metadata": {},
   "outputs": [
    {
     "name": "stdout",
     "output_type": "stream",
     "text": [
      "Array:  [0.00000000e+000 1.08057569e-311 1.08057569e-311 1.08057569e-311]\n",
      "Dimension of Array:  1\n"
     ]
    }
   ],
   "source": [
    "# Creating an Empty Array\n",
    "import numpy as np\n",
    "arrEmpty=np.empty(4)\n",
    "print(\"Array: \", arrEmpty)\n",
    "print(\"Dimension of Array: \", arrEmpty.ndim)"
   ]
  },
  {
   "cell_type": "code",
   "execution_count": 26,
   "metadata": {},
   "outputs": [
    {
     "name": "stdout",
     "output_type": "stream",
     "text": [
      "Array: \n",
      " [[0. 0.]\n",
      " [0. 0.]\n",
      " [0. 0.]\n",
      " [0. 0.]]\n",
      "Dinemsion of Array:  2\n"
     ]
    }
   ],
   "source": [
    "# Creating an Empty Array of Multiple Dimension \n",
    "import numpy as np \n",
    "arrEmpty=np.empty((4, 2))\n",
    "print(\"Array: \\n\", arrEmpty)\n",
    "print(\"Dinemsion of Array: \", arrEmpty.ndim)"
   ]
  },
  {
   "cell_type": "code",
   "execution_count": 27,
   "metadata": {},
   "outputs": [
    {
     "name": "stdout",
     "output_type": "stream",
     "text": [
      "Array: \n",
      " [[[0. 0.]\n",
      "  [0. 0.]\n",
      "  [0. 0.]]\n",
      "\n",
      " [[0. 0.]\n",
      "  [0. 0.]\n",
      "  [0. 0.]]\n",
      "\n",
      " [[0. 0.]\n",
      "  [0. 0.]\n",
      "  [0. 0.]]\n",
      "\n",
      " [[0. 0.]\n",
      "  [0. 0.]\n",
      "  [0. 0.]]]\n",
      "Dimension of Array:  3\n"
     ]
    }
   ],
   "source": [
    "# Creating an Array of Multiple Dimension \n",
    "import numpy as np\n",
    "arrMulti=np.empty((4, 3, 2))\n",
    "print(\"Array: \\n\", arrMulti)\n",
    "print(\"Dimension of Array: \", arrMulti.ndim)"
   ]
  },
  {
   "cell_type": "markdown",
   "metadata": {},
   "source": [
    "# **Array with a Range of Elements** "
   ]
  },
  {
   "cell_type": "code",
   "execution_count": 29,
   "metadata": {},
   "outputs": [
    {
     "name": "stdout",
     "output_type": "stream",
     "text": [
      "Array:  [0 1 2 3 4]\n",
      "Dimension:  1\n"
     ]
    }
   ],
   "source": [
    "import numpy as np \n",
    "arrayRange=np.arange(5)\n",
    "print(\"Array: \", arrayRange)\n",
    "print(\"Dimension: \", arrayRange.ndim)"
   ]
  },
  {
   "cell_type": "code",
   "execution_count": 44,
   "metadata": {},
   "outputs": [
    {
     "name": "stdout",
     "output_type": "stream",
     "text": [
      "Array:  [[0 1 2 3 4 5 6]]\n",
      "Dimension of Array:  2\n"
     ]
    }
   ],
   "source": [
    "# For Two Dimension \n",
    "import numpy as np \n",
    "# For Two Dimensional Array\n",
    "arrayRange=np.arange(7).reshape(1, 7)\n",
    "print(\"Array: \", arrayRange)\n",
    "print(\"Dimension of Array: \", arrayRange.ndim)"
   ]
  },
  {
   "cell_type": "markdown",
   "metadata": {},
   "source": [
    "# **Array with Diagonal Elements filled with 1's**"
   ]
  },
  {
   "cell_type": "code",
   "execution_count": 47,
   "metadata": {},
   "outputs": [
    {
     "name": "stdout",
     "output_type": "stream",
     "text": [
      "[[1. 0. 0.]\n",
      " [0. 1. 0.]\n",
      " [0. 0. 1.]]\n",
      "Dimension:  2\n"
     ]
    }
   ],
   "source": [
    "import numpy as np\n",
    "arrDig=np.eye(3)    #For Square Matrix, 3x3\n",
    "print(arrDig)\n",
    "print(\"Dimension: \", arrDig.ndim)"
   ]
  },
  {
   "cell_type": "code",
   "execution_count": 55,
   "metadata": {},
   "outputs": [
    {
     "name": "stdout",
     "output_type": "stream",
     "text": [
      "[[1. 0. 0. 0. 0.]\n",
      " [0. 1. 0. 0. 0.]\n",
      " [0. 0. 1. 0. 0.]]\n",
      "Dimension:  2\n"
     ]
    }
   ],
   "source": [
    "import numpy as np\n",
    "arrDig=np.eye(3, 5)\n",
    "print(arrDig)\n",
    "print(\"Dimension: \", arrDig.ndim)"
   ]
  },
  {
   "cell_type": "markdown",
   "metadata": {},
   "source": [
    "# **Create an array with values that are spaced linearly in a specified interval**"
   ]
  },
  {
   "cell_type": "code",
   "execution_count": 57,
   "metadata": {},
   "outputs": [
    {
     "name": "stdout",
     "output_type": "stream",
     "text": [
      "[ 0.   2.5  5.   7.5 10. ]\n"
     ]
    }
   ],
   "source": [
    "# using linspace() function\n",
    "import numpy as np\n",
    "arrLinSpaced=np.linspace(0, 10, num=5)\n",
    "print(arrLinSpaced)"
   ]
  }
 ],
 "metadata": {
  "kernelspec": {
   "display_name": "base",
   "language": "python",
   "name": "python3"
  },
  "language_info": {
   "codemirror_mode": {
    "name": "ipython",
    "version": 3
   },
   "file_extension": ".py",
   "mimetype": "text/x-python",
   "name": "python",
   "nbconvert_exporter": "python",
   "pygments_lexer": "ipython3",
   "version": "3.12.7"
  }
 },
 "nbformat": 4,
 "nbformat_minor": 2
}
