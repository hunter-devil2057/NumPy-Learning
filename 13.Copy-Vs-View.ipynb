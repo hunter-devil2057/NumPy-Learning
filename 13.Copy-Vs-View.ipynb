{
 "cells": [
  {
   "cell_type": "markdown",
   "metadata": {},
   "source": [
    "# **Copy vs View in NumPy Arrays**"
   ]
  },
  {
   "cell_type": "code",
   "execution_count": 5,
   "metadata": {},
   "outputs": [
    {
     "name": "stdout",
     "output_type": "stream",
     "text": [
      "Original Array:  [ 1  2 34  4  5]\n",
      "Copied Array:  [1 2 3 4 5]\n"
     ]
    }
   ],
   "source": [
    "import numpy as np\n",
    "var=np.array([1, 2, 3, 4, 5])\n",
    "varCopy=var.copy()\n",
    "var[2]=34\n",
    "print(\"Original Array: \", var)\n",
    "print(\"Copied Array: \", varCopy)"
   ]
  },
  {
   "cell_type": "code",
   "execution_count": 6,
   "metadata": {},
   "outputs": [
    {
     "name": "stdout",
     "output_type": "stream",
     "text": [
      "Original Array:  [ 9  8  7 34  5]\n",
      "Viewed Data:  [ 9  8  7 34  5]\n"
     ]
    }
   ],
   "source": [
    "var1=np.array([9, 8, 7, 6, 5])\n",
    "varView=var1.view()\n",
    "var1[3]=34\n",
    "print(\"Original Array: \", var1)\n",
    "print(\"Viewed Data: \", varView)"
   ]
  },
  {
   "cell_type": "markdown",
   "metadata": {},
   "source": [
    "**Difference Between Copy and View**\n",
    ">**Copy**\n",
    "- The Copy owns the data. \n",
    "- The Copy of an array is a new array. \n",
    "- The changes made in the copy data does not reflect in the original array. \n",
    ">**View**\n",
    "- The view does not own the data. \n",
    "- A view of the original array. \n",
    "- Any changes made to the view will affect the original array, and any changes made to the orginal array will affect the view. "
   ]
  }
 ],
 "metadata": {
  "kernelspec": {
   "display_name": "base",
   "language": "python",
   "name": "python3"
  },
  "language_info": {
   "codemirror_mode": {
    "name": "ipython",
    "version": 3
   },
   "file_extension": ".py",
   "mimetype": "text/x-python",
   "name": "python",
   "nbconvert_exporter": "python",
   "pygments_lexer": "ipython3",
   "version": "3.12.7"
  }
 },
 "nbformat": 4,
 "nbformat_minor": 2
}
