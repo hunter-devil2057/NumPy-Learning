{
 "cells": [
  {
   "cell_type": "markdown",
   "metadata": {},
   "source": [
    "**Search Sorted Array:** \n",
    "> - performs a binary search in the array, and returns the index where the specified value would be inserted to maintain the search order. \n",
    "> - can be done by using **np.searchsorted(varName, Value)**\n",
    "> - also can be used as, **np.searchsorted(varName, Value, side=\"right/left\")** to change direction of searching"
   ]
  },
  {
   "cell_type": "code",
   "execution_count": 9,
   "metadata": {},
   "outputs": [
    {
     "name": "stdout",
     "output_type": "stream",
     "text": [
      "5\n",
      "[ 8  9 10]\n"
     ]
    }
   ],
   "source": [
    "import numpy as np\n",
    "var=np.array([1, 2, 3, 4, 2, 5, 2, 5, 6, 7])\n",
    "x=np.searchsorted(var, 5)\n",
    "y=np.searchsorted(var, 5, side='right')\n",
    "y=np.searchsorted(var, [5, 6, 7], side='right')\n",
    "print(x)\n",
    "print(y)"
   ]
  }
 ],
 "metadata": {
  "kernelspec": {
   "display_name": "base",
   "language": "python",
   "name": "python3"
  },
  "language_info": {
   "codemirror_mode": {
    "name": "ipython",
    "version": 3
   },
   "file_extension": ".py",
   "mimetype": "text/x-python",
   "name": "python",
   "nbconvert_exporter": "python",
   "pygments_lexer": "ipython3",
   "version": "3.12.7"
  }
 },
 "nbformat": 4,
 "nbformat_minor": 2
}
