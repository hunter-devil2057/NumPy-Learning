{
 "cells": [
  {
   "cell_type": "markdown",
   "metadata": {},
   "source": [
    "**Indexing NumPy Arrays**\n",
    ">**Positive Indexing**"
   ]
  },
  {
   "cell_type": "code",
   "execution_count": 1,
   "metadata": {},
   "outputs": [
    {
     "name": "stdout",
     "output_type": "stream",
     "text": [
      "[ 10  20  30  40  50  60  70  80  90 100]\n",
      "10\n",
      "20\n",
      "30\n",
      "40\n",
      "50\n",
      "60\n",
      "70\n",
      "80\n",
      "90\n",
      "100\n"
     ]
    }
   ],
   "source": [
    "import numpy as np\n",
    "oneDArray=np.array([10,20,30,40,50,60,70,80,90,100])\n",
    "print(oneDArray)\n",
    "print(oneDArray[0])\n",
    "print(oneDArray[1])\n",
    "print(oneDArray[2])\n",
    "print(oneDArray[3])\n",
    "print(oneDArray[4])\n",
    "print(oneDArray[5])\n",
    "print(oneDArray[6])\n",
    "print(oneDArray[7])\n",
    "print(oneDArray[8])\n",
    "print(oneDArray[9])"
   ]
  },
  {
   "cell_type": "markdown",
   "metadata": {},
   "source": [
    ">**Negative Indexing**"
   ]
  },
  {
   "cell_type": "code",
   "execution_count": 2,
   "metadata": {},
   "outputs": [
    {
     "name": "stdout",
     "output_type": "stream",
     "text": [
      "[ 10  20  30  40  50  60  70  80  90 100]\n",
      "100\n",
      "90\n",
      "80\n",
      "70\n",
      "60\n",
      "50\n",
      "40\n",
      "30\n",
      "20\n",
      "10\n"
     ]
    }
   ],
   "source": [
    "import numpy as np\n",
    "oneDArray=np.array([10,20,30,40,50,60,70,80,90,100])\n",
    "print(oneDArray)\n",
    "print(oneDArray[-1])\n",
    "print(oneDArray[-2])\n",
    "print(oneDArray[-3])\n",
    "print(oneDArray[-4])\n",
    "print(oneDArray[-5])\n",
    "print(oneDArray[-6])\n",
    "print(oneDArray[-7])\n",
    "print(oneDArray[-8])\n",
    "print(oneDArray[-9])\n",
    "print(oneDArray[-10])"
   ]
  },
  {
   "cell_type": "code",
   "execution_count": 51,
   "metadata": {},
   "outputs": [
    {
     "name": "stdout",
     "output_type": "stream",
     "text": [
      "[ 10  20  30  40  50  60  70  80  90 100]\n",
      "Dimension of Matrix:  1\n",
      "Order of Matrix:  (10,)\n",
      "[10 20 30 40 50]\n",
      "[ 10  20  30  40  50  60  70  80  90 100]\n",
      "[]\n",
      "[ 10  20  30  40  50  60  70  80  90 100]\n"
     ]
    }
   ],
   "source": [
    "import numpy as np\n",
    "oneDArray=np.array([10,20,30,40,50,60,70,80,90,100])\n",
    "print(oneDArray)\n",
    "print(\"Dimension of Matrix: \", oneDArray.ndim)\n",
    "print(\"Order of Matrix: \", oneDArray.shape)\n",
    "print(oneDArray[0: 5])  # displays result excluding 5th positional element\n",
    "print(oneDArray[0:])    # displays all the element in an array\n",
    "print(oneDArray[:0])        #prints an empty array element\n",
    "print(oneDArray[:]) #\n"
   ]
  },
  {
   "cell_type": "code",
   "execution_count": 47,
   "metadata": {},
   "outputs": [
    {
     "name": "stdout",
     "output_type": "stream",
     "text": [
      "[[ 1  2  3  4]\n",
      " [ 5  6  7  8]\n",
      " [ 9 10 11 12]]\n",
      "Dimension of Matrix:  2\n",
      "Order of Matrix:  (3, 4)\n",
      "[1 2 3 4]\n",
      "[ 9 10 11 12]\n",
      "Elements in First Row: \n",
      "1\n",
      "2\n",
      "3\n",
      "4\n",
      "[1 2 3 4]\n",
      "Elements in Second Row: \n",
      "5\n",
      "6\n",
      "7\n",
      "8\n",
      "[5 6 7 8]\n",
      "Elements in Third Row: \n",
      "9\n",
      "10\n",
      "11\n",
      "12\n",
      "[ 9 10 11 12]\n"
     ]
    }
   ],
   "source": [
    "import numpy as np\n",
    "twoDArray=np.array([[1, 2, 3, 4], [5, 6, 7, 8], [9, 10, 11, 12]])\n",
    "print(twoDArray)\n",
    "print(\"Dimension of Matrix: \", twoDArray.ndim)\n",
    "print(\"Order of Matrix: \", twoDArray.shape)\n",
    "print(twoDArray[0]) #accessing 1st rows in matrix\n",
    "print(twoDArray[2])     # accessing 2nd rows in matrix\n",
    "print(\"Elements in First Row: \")\n",
    "print(twoDArray[0][0])     #accessing 1st element of 1st row\n",
    "print(twoDArray[0][1])  #accessing 2nd element of 1st row \n",
    "print(twoDArray[0][2])  # accessing 3rd element of 1st row \n",
    "print(twoDArray[0][3])  # accessing 4th element of 1st row\n",
    "print(twoDArray[0][:])\n",
    "print(\"Elements in Second Row: \")\n",
    "print(twoDArray[1][0])  #accessing 1st element of 2nd row\n",
    "print(twoDArray[1][1])  # accessing 2nd element of 2nd row\n",
    "print(twoDArray[1][2])  # accessing 3rd element of 2nd row\n",
    "print(twoDArray[1][3])  # accessing 4th element of 2nd row\n",
    "print(twoDArray[1][:])\n",
    "print(\"Elements in Third Row: \")\n",
    "print(twoDArray[2][0])  # accessing 1st element of 3rd row\n",
    "print(twoDArray[2][1])  # accessing 2nd element of 3rd row\n",
    "print(twoDArray[2][2])  # accessing 3rd element of 3rd row\n",
    "print(twoDArray[2][3])  # accessing 4th element of 3rd row\n",
    "print(twoDArray[2][:])"
   ]
  },
  {
   "cell_type": "code",
   "execution_count": 67,
   "metadata": {},
   "outputs": [
    {
     "name": "stdout",
     "output_type": "stream",
     "text": [
      "[[ 1  2  3  4]\n",
      " [ 5  6  7  8]\n",
      " [ 9 10 11 12]]\n",
      "Dimension of Matrix:  2\n",
      "Order of Matrix:  (3, 4)\n",
      "Elements in Third Row:  [ 9 10 11 12]\n",
      "12\n",
      "12\n",
      "11\n",
      "11\n",
      "10\n",
      "10\n",
      "9\n",
      "9\n",
      "Elements in Second Row:  [5 6 7 8]\n",
      "8\n",
      "8\n",
      "7\n",
      "7\n",
      "6\n",
      "6\n",
      "5\n",
      "5\n",
      "[5 6 7 8]\n",
      "Elements in First Row:  [1 2 3 4]\n",
      "4\n",
      "4\n",
      "3\n",
      "3\n",
      "2\n",
      "2\n",
      "1\n",
      "1\n",
      "[1 2 3 4]\n"
     ]
    }
   ],
   "source": [
    "import numpy as np\n",
    "twoDArray=np.array([[1, 2, 3, 4], [5, 6, 7, 8], [9, 10, 11, 12]])\n",
    "print(twoDArray)\n",
    "print(\"Dimension of Matrix: \", twoDArray.ndim)\n",
    "print(\"Order of Matrix: \", twoDArray.shape)\n",
    "print(\"Elements in Third Row: \", twoDArray[-1][:])\n",
    "print(twoDArray[-1][-1])  # accessing last element of 3rd row\n",
    "print(twoDArray[-1, -1])\n",
    "print(twoDArray[-1][-2])    # accessing 2nd last element of 3rd row\n",
    "print(twoDArray[-1, -2])\n",
    "print(twoDArray[-1][-3])    # accessing 3rd last element of 3rd row\n",
    "print(twoDArray[-1, -3])\n",
    "print(twoDArray[-1][-4])    # accessing 1st element of 3rd row\n",
    "print(twoDArray[-1, -4])\n",
    "print(\"Elements in Second Row: \", twoDArray[-2][:])\n",
    "print(twoDArray[-2][-1])    # accessing last element of 2nd row\n",
    "print(twoDArray[-2, -1])\n",
    "print(twoDArray[-2][-2])    # accessing 2nd last element of 2nd row\n",
    "print(twoDArray[-2, -2])\n",
    "print(twoDArray[-2][-3])    # accessing 3rd last element of 2nd row\n",
    "print(twoDArray[-2, -3])\n",
    "print(twoDArray[-2][-4])    # accessing 1st element of 2nd row\n",
    "print(twoDArray[-2, -4])\n",
    "print(twoDArray[-2, :])\n",
    "print(\"Elements in First Row: \", twoDArray[-3][:])\n",
    "print(twoDArray[-3][-1])    # accessing last element of 1st row\n",
    "print(twoDArray[-3, -1])\n",
    "print(twoDArray[-3][-2])    # accessing 2nd last element of 1st row\n",
    "print(twoDArray[-3, -2])\n",
    "print(twoDArray[-3][-3])    # accessing 3rd last element of 1st row\n",
    "print(twoDArray[-3, -3])\n",
    "print(twoDArray[-3][-4])   # accessing 1st element of 1st row\n",
    "print(twoDArray[-3, -4])\n",
    "print(twoDArray[-3, :])"
   ]
  },
  {
   "cell_type": "code",
   "execution_count": 56,
   "metadata": {},
   "outputs": [
    {
     "name": "stdout",
     "output_type": "stream",
     "text": [
      "[[9 8 7]\n",
      " [4 5 6]]\n",
      "Dimension of Var1:  2\n",
      "Order of Var1:  (2, 3)\n",
      "7\n"
     ]
    }
   ],
   "source": [
    "var1=np.array([[9, 8, 7], [4, 5, 6]])\n",
    "print(var1)\n",
    "print(\"Dimension of Var1: \", var1.ndim)\n",
    "print(\"Order of Var1: \", var1.shape)\n",
    "print(var1[0, 2])"
   ]
  },
  {
   "cell_type": "code",
   "execution_count": 68,
   "metadata": {},
   "outputs": [
    {
     "name": "stdout",
     "output_type": "stream",
     "text": [
      "[[1 2 3]\n",
      " [4 5 6]]\n",
      "Dimension:  2\n",
      "Order of Matrix:  (2, 3)\n"
     ]
    }
   ],
   "source": [
    "var2=np.array([[1, 2, 3], [4, 5, 6]])\n",
    "print(var2)\n",
    "print(\"Dimension: \", var2.ndim)\n",
    "print(\"Order of Matrix: \", var2.shape)"
   ]
  },
  {
   "cell_type": "code",
   "execution_count": 79,
   "metadata": {},
   "outputs": [
    {
     "name": "stdout",
     "output_type": "stream",
     "text": [
      "[[[1 2]\n",
      "  [3 4]]]\n",
      "Dimension:  3\n",
      "Order of Matrix:  (1, 2, 2)\n",
      "Elements in 1st Row:  [1 2]\n",
      "1\n",
      "2\n",
      "Elements in 2nd Row:  [3 4]\n",
      "3\n",
      "4\n"
     ]
    }
   ],
   "source": [
    "var3=np.array([[[1, 2], [3, 4]]])\n",
    "print(var3)\n",
    "print(\"Dimension: \", var3.ndim)\n",
    "print(\"Order of Matrix: \", var3.shape)\n",
    "print(\"Elements in 1st Row: \", var3[0, 0, :])\n",
    "print(var3[0, 0, 0])\n",
    "print(var3[0, 0, 1])\n",
    "print(\"Elements in 2nd Row: \", var3[0, 1, :])\n",
    "print(var3[0, 1, 0])\n",
    "print(var3[0, 1, 1])"
   ]
  }
 ],
 "metadata": {
  "kernelspec": {
   "display_name": "base",
   "language": "python",
   "name": "python3"
  },
  "language_info": {
   "codemirror_mode": {
    "name": "ipython",
    "version": 3
   },
   "file_extension": ".py",
   "mimetype": "text/x-python",
   "name": "python",
   "nbconvert_exporter": "python",
   "pygments_lexer": "ipython3",
   "version": "3.12.7"
  }
 },
 "nbformat": 4,
 "nbformat_minor": 2
}
